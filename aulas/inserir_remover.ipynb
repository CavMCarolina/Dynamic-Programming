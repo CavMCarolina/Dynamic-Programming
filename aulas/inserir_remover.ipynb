{
 "cells": [
  {
   "cell_type": "markdown",
   "metadata": {},
   "source": [
    "## Inserção em Listas Ordenadas"
   ]
  },
  {
   "cell_type": "code",
   "execution_count": 1,
   "metadata": {},
   "outputs": [],
   "source": [
    "# 10 + 2 -> limite = 12 (para no 10)\n",
    "V = [i for i in range(2, 10 + 2, 2)]\n",
    "\n",
    "# Numero a ser inserido\n",
    "x = 3\n",
    "V.append(x)"
   ]
  },
  {
   "cell_type": "code",
   "execution_count": null,
   "metadata": {},
   "outputs": [],
   "source": [
    "# i vai começar no 10 (que era o ultimo elemento antes de inserir o 3)\n",
    "i = len(V) - 2\n",
    "\n",
    "# \n",
    "while i >= 0 and V[i] > x:\n",
    "    # Vai \"jogando\" os numeros para frente enquanto forem maior que o x\n",
    "    V[i + 1] = V[i]\n",
    "    i -= 1\n",
    "V[i + 1] = x  # i para no numero que é menor que x, então precisa colocar i + 1 para inserir o x na posição correta"
   ]
  },
  {
   "cell_type": "markdown",
   "metadata": {},
   "source": [
    "# Exemplo Remoção em Listas Ordenadas"
   ]
  },
  {
   "cell_type": "code",
   "execution_count": 2,
   "metadata": {},
   "outputs": [],
   "source": [
    "from typing import Any"
   ]
  },
  {
   "cell_type": "code",
   "execution_count": 50,
   "metadata": {},
   "outputs": [
    {
     "name": "stdout",
     "output_type": "stream",
     "text": [
      "2 será removido da lista\n",
      "Lista final = [3, 4, 6, 10, None]\n"
     ]
    }
   ],
   "source": [
    "def busca_sequencial(l: list[Any], x: int) -> int:\n",
    "    for i, elemento in enumerate(l):\n",
    "        if elemento == x:\n",
    "            return i\n",
    "    return -1\n",
    " \n",
    "lista = [2, 3, 4, 6, 10]\n",
    "x = 2\n",
    "i = busca_sequencial(lista, x)\n",
    "\n",
    "if i != -1:\n",
    "    print(f'{x} será removido da lista')\n",
    "\n",
    "    # Vai deslocando os numeros (3 3 4 6 10, 3 4 4 6 10, 3 4 6 6 10, 3 4 6 10 10)\n",
    "    for j in range (i + 1, len(lista)):\n",
    "        lista[j -1] = lista[j]\n",
    "        \n",
    "    # Adiciona o None para \"diminuir a lista\"\n",
    "    lista[len(lista) - 1] = None\n",
    "    print(f'Lista final = {lista}')\n",
    "else:\n",
    "    print(f'{x} não pertence a lista')"
   ]
  }
 ],
 "metadata": {
  "kernelspec": {
   "display_name": "Python 3",
   "language": "python",
   "name": "python3"
  },
  "language_info": {
   "codemirror_mode": {
    "name": "ipython",
    "version": 3
   },
   "file_extension": ".py",
   "mimetype": "text/x-python",
   "name": "python",
   "nbconvert_exporter": "python",
   "pygments_lexer": "ipython3",
   "version": "3.12.3"
  }
 },
 "nbformat": 4,
 "nbformat_minor": 2
}
