{
 "cells": [
  {
   "cell_type": "markdown",
   "metadata": {},
   "source": [
    "# Busca Sequencial"
   ]
  },
  {
   "cell_type": "code",
   "execution_count": 1,
   "metadata": {},
   "outputs": [],
   "source": [
    "def busca_sequencial(vetor: list[any], x: any) -> int:\n",
    "    for i, elemento in enumerate(vetor):\n",
    "        if elemento == x:\n",
    "            return i\n",
    "    return -1"
   ]
  },
  {
   "cell_type": "markdown",
   "metadata": {},
   "source": [
    "# Busca Binária"
   ]
  },
  {
   "cell_type": "markdown",
   "metadata": {},
   "source": [
    "## Recursiva"
   ]
  },
  {
   "cell_type": "code",
   "execution_count": 2,
   "metadata": {},
   "outputs": [],
   "source": [
    "def busca_binaria_recursiva(vetor: list[any], esquerdo: int, direito: int, x: int) -> int:\n",
    "    if esquerdo > direito:\n",
    "        return -1\n",
    "    else:\n",
    "        meio = (esquerdo + direito) // 2\n",
    "        if vetor[meio] == x:\n",
    "            return meio\n",
    "        elif x > vetor[meio]:\n",
    "            return busca_binaria_recursiva(vetor, meio +1, direito, x)\n",
    "        else:\n",
    "            return busca_binaria_recursiva(vetor, esquerdo, meio -1, x)"
   ]
  },
  {
   "cell_type": "markdown",
   "metadata": {},
   "source": [
    "## Iterativa"
   ]
  },
  {
   "cell_type": "code",
   "execution_count": 1,
   "metadata": {},
   "outputs": [],
   "source": [
    "def busca_binaria_iterativa(vetor: list[any], esquerdo: int, direito: int, x: int) -> int:\n",
    "    while esquerdo <= direito:\n",
    "        meio = esquerdo + (direito - esquerdo) // 2\n",
    "        if vetor[meio] == x:\n",
    "            return meio\n",
    "        elif vetor[meio] < x:\n",
    "            esquerdo = meio +1\n",
    "        else:\n",
    "            direito = meio -1\n",
    "    return -1"
   ]
  },
  {
   "cell_type": "markdown",
   "metadata": {},
   "source": [
    "## Exemplos"
   ]
  },
  {
   "cell_type": "code",
   "execution_count": 17,
   "metadata": {},
   "outputs": [
    {
     "data": {
      "text/plain": [
       "3"
      ]
     },
     "execution_count": 17,
     "metadata": {},
     "output_type": "execute_result"
    }
   ],
   "source": [
    "def busca_recursiva(vetor, e, d, x):\n",
    "    # If necessário para não ficar loop infinito\n",
    "    if e > d:\n",
    "        return - 1\n",
    "    meio = (d + e) // 2\n",
    "    if vetor[meio] == x:\n",
    "        return meio\n",
    "    elif x > vetor[meio]:\n",
    "        return busca_recursiva(vetor, meio + 1, d, x)\n",
    "    else:\n",
    "        return busca_recursiva(vetor, e, meio - 1, x)\n",
    "\n",
    "vetor = [-8, -5, 1, 4, 14, 21, 23, 54, 67, 90]\n",
    "busca_recursiva(vetor, 0, len(vetor), 4)"
   ]
  },
  {
   "cell_type": "code",
   "execution_count": 15,
   "metadata": {},
   "outputs": [
    {
     "name": "stdout",
     "output_type": "stream",
     "text": [
      "Índices: esquerda 0, direita 9\n",
      "O elemento é menor que o meio\n",
      "Índices: esquerda 0, direita 3\n",
      "O elemento é maior que o meio\n",
      "Índices: esquerda 2, direita 3\n",
      "O elemento é maior que o meio\n",
      "Índices: esquerda 3, direita 3\n",
      "O índice do meio é  3\n",
      "O elemento do meio é  4\n"
     ]
    }
   ],
   "source": [
    "def busca(vetor, x):\n",
    "    esquerda = 0\n",
    "    direita = len(vetor) - 1\n",
    "    while esquerda <= direita:\n",
    "        print(f'Índices: esquerda {esquerda}, direita {direita}')\n",
    "        meio = (esquerda + direita) // 2\n",
    "        if vetor[meio] == x:\n",
    "            print(\"O índice do meio é \", meio)\n",
    "            print(\"O elemento do meio é \", x)\n",
    "            return\n",
    "        elif x > vetor[meio]:\n",
    "            esquerda = meio + 1\n",
    "            print(\"O elemento é maior que o meio\")\n",
    "        else:\n",
    "            direita = meio - 1\n",
    "            print(\"O elemento é menor que o meio\")\n",
    "    return -1\n",
    "\n",
    "vetor = [-8, -5, 1, 4, 14, 21, 23, 54, 67, 90]\n",
    "busca(vetor, 4)"
   ]
  }
 ],
 "metadata": {
  "kernelspec": {
   "display_name": "Python 3",
   "language": "python",
   "name": "python3"
  },
  "language_info": {
   "codemirror_mode": {
    "name": "ipython",
    "version": 3
   },
   "file_extension": ".py",
   "mimetype": "text/x-python",
   "name": "python",
   "nbconvert_exporter": "python",
   "pygments_lexer": "ipython3",
   "version": "3.12.3"
  }
 },
 "nbformat": 4,
 "nbformat_minor": 2
}
