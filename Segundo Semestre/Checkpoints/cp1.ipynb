{
 "cells": [
  {
   "cell_type": "markdown",
   "metadata": {},
   "source": [
    "# Checkpoint 1:"
   ]
  },
  {
   "cell_type": "markdown",
   "metadata": {},
   "source": [
    "# Código:"
   ]
  },
  {
   "cell_type": "markdown",
   "metadata": {},
   "source": [
    "## Exercício 1:\n",
    "Utilize a busca linear escreva uma função em Python que retorna duas listas:\n",
    "- Uma lista com os códigos dos equipamentos que têm status pendente.\n",
    "- Uma lista com os códigos dos equipamentos que têm status concluído.\n",
    "\n",
    "codigos_equipamentos = [101, 102, 103, 104, 105, 106, 107, 108]\n",
    "\n",
    "status_manutencao = [0, 1, 0, 1, 0, 1, 1, 0]\n",
    "\n",
    "Sendo: 0 = pendente, 1 = concluído"
   ]
  },
  {
   "cell_type": "code",
   "execution_count": 9,
   "metadata": {},
   "outputs": [
    {
     "name": "stdout",
     "output_type": "stream",
     "text": [
      "Os equipamentos pendentes são: [101, 103, 105, 108]\n",
      "Os equipamentos concluídos são: [102, 104, 106, 107]\n"
     ]
    }
   ],
   "source": [
    "# Listas\n",
    "codigos_equipamentos = [101, 102, 103, 104, 105, 106, 107, 108]\n",
    "status_manutencao = [0, 1, 0, 1, 0, 1, 1, 0]\n",
    "\n",
    "# Funcao para verificar que esta pendente ou concluido\n",
    "def verificacao_status(lista_principal, status):\n",
    "    positivo = []\n",
    "    negativo = []\n",
    "\n",
    "    for i in range(len(lista_principal)):\n",
    "        if status[i] == 1:\n",
    "            positivo.append(lista_principal[i])\n",
    "        else:\n",
    "            negativo.append(lista_principal[i])\n",
    "\n",
    "    return positivo, negativo\n",
    "\n",
    "# Chamando a funcao e printando as listas\n",
    "concluido, pendente = verificacao_status(codigos_equipamentos, status_manutencao)\n",
    "print(f\"Os equipamentos pendentes são: {pendente}\\nOs equipamentos concluídos são: {concluido}\")"
   ]
  },
  {
   "cell_type": "markdown",
   "metadata": {},
   "source": [
    "## Exercício 2:\n",
    "Em uma linha de produção, cada produto tem um número de série, e o status de qualidade é armazenado em uma lista separada. O objetivo é criar três listas: uma com os produtos aprovados, outra com os produtos reprovados, e outra com produtos pendentes.\n",
    "Crie uma estrutura com input para o usuário a qual seja possível o usuário inserir 10 números de série e os respectivos status de qualidade para cada número de série.\n",
    "\n",
    "Exemplo para número de série = 1001, 1002, 1003....Exemplo para status = aprovado, reprova, pendente,..., \n",
    "Sendo 1 = aprovado, 0 = reprovado, -1 = pendente."
   ]
  },
  {
   "cell_type": "code",
   "execution_count": 10,
   "metadata": {},
   "outputs": [
    {
     "name": "stdout",
     "output_type": "stream",
     "text": [
      "Erro: O status deve ser 1, 0 ou -1.\n",
      "Erro: Digite um número válido para o status.\n",
      "Erro: O status deve ser 1, 0 ou -1.\n",
      "Erro: O status deve ser 1, 0 ou -1.\n",
      "Produtos Aprovados: [10, 12, 14, 16]\n",
      "Produtos Reprovados: [11, 15, 17, 19]\n",
      "Produtos Pendentes: [13, 18]\n"
     ]
    }
   ],
   "source": [
    "# Funcao para verificar se o produto esta aprovado, reprovado ou pendente\n",
    "def verificacao_status(lista_principal, status):\n",
    "    aprovado = []\n",
    "    reprovado = []\n",
    "    pendente = []\n",
    "\n",
    "    for i in range(len(lista_principal)):\n",
    "        if status[i] == 1:\n",
    "            aprovado.append(lista_principal[i])\n",
    "        elif status[i] == 0:\n",
    "            reprovado.append(lista_principal[i])\n",
    "        else:\n",
    "            pendente.append(lista_principal[i])\n",
    "\n",
    "    return aprovado, reprovado, pendente\n",
    "\n",
    "# Funcao para input do usuario\n",
    "def coletar_dados():\n",
    "    produtos = []\n",
    "    status = []\n",
    "    \n",
    "    # Coletando o primeiro número da série\n",
    "    # Usando try e except para não dar erro :)\n",
    "    while True:\n",
    "        try:\n",
    "            num1 = int(input(\"Digite o primeiro número de série: \"))\n",
    "            break\n",
    "        except ValueError:\n",
    "            print(\"Erro: Digite um número válido.\")\n",
    "\n",
    "    for i in range(10):\n",
    "        # Criando o resto da sequencia de acordo com o primeiro numero\n",
    "        produto = num1 + i\n",
    "\n",
    "        # Coletando status de cada produto\n",
    "        while True:\n",
    "            # Usando try e except para nao deixar passar excecoes\n",
    "            try:\n",
    "                status_qualidade = int(input(f\"Digite o status do produto {produto} (1=Aprovado, 0=Reprovado, -1=Pendente): \"))\n",
    "\n",
    "                # Se o status for -1, 0 ou 1, passa para o próximo. Se não, fica em looping até ir certo :)\n",
    "                if status_qualidade in [-1, 0, 1]:\n",
    "                    break\n",
    "                else:\n",
    "                    print(\"Erro: O status deve ser 1, 0 ou -1.\")\n",
    "            except ValueError:\n",
    "                print(\"Erro: Digite um número válido para o status.\")\n",
    "\n",
    "        produtos.append(produto)\n",
    "        status.append(status_qualidade)\n",
    "\n",
    "    return produtos, status\n",
    "\n",
    "produtos, status = coletar_dados()\n",
    "aprovado, reprovado, pendente = verificacao_status(produtos, status)\n",
    "\n",
    "print(f\"Produtos Aprovados: {aprovado}\\nProdutos Reprovados: {reprovado}\\nProdutos Pendentes: {pendente}\")"
   ]
  },
  {
   "cell_type": "markdown",
   "metadata": {},
   "source": [
    "# Vídeo:\n"
   ]
  }
 ],
 "metadata": {
  "kernelspec": {
   "display_name": "Python 3",
   "language": "python",
   "name": "python3"
  },
  "language_info": {
   "codemirror_mode": {
    "name": "ipython",
    "version": 3
   },
   "file_extension": ".py",
   "mimetype": "text/x-python",
   "name": "python",
   "nbconvert_exporter": "python",
   "pygments_lexer": "ipython3",
   "version": "3.13.2"
  }
 },
 "nbformat": 4,
 "nbformat_minor": 2
}
