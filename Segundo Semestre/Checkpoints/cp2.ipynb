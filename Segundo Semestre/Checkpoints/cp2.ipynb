{
 "cells": [
  {
   "cell_type": "markdown",
   "metadata": {},
   "source": [
    "# Checkpoint 2:"
   ]
  },
  {
   "cell_type": "markdown",
   "metadata": {},
   "source": [
    "## Exercício 1:\n",
    "Dada a lista ordenada [3, 5, 7, 8, 11, 14, 15], utilize o algoritmo de busca binária para encontrar o valor 11. Retorne o índice do alvo e mostre o funcionamento do algoritmo passo a passo (a cada iteração)."
   ]
  },
  {
   "cell_type": "code",
   "execution_count": 1,
   "metadata": {},
   "outputs": [
    {
     "name": "stdout",
     "output_type": "stream",
     "text": [
      "Iteração 1:\n",
      "l = 0\n",
      "h = 6\n",
      "m = 3\n",
      "~~~~~~~~~~~~~~~~~~\n",
      "Iteração 2:\n",
      "l = 4\n",
      "h = 6\n",
      "m = 5\n",
      "~~~~~~~~~~~~~~~~~~\n",
      "Iteração 3:\n",
      "l = 4\n",
      "h = 4\n",
      "m = 4\n",
      "~~~~~~~~~~~~~~~~~~\n",
      "O alvo foi encontrado na posição 4\n"
     ]
    }
   ],
   "source": [
    "lista = [3, 5, 7, 8, 11, 14, 15]\n",
    "alvo = 11\n",
    "\n",
    "def busca_binaria(lista, alvo):\n",
    "    l = 0\n",
    "    h = len(lista) - 1\n",
    "\n",
    "    i = 0\n",
    "    for i in range(len(lista)):\n",
    "        m = (l + h) // 2\n",
    "        print(f'Iteração {i + 1}:\\nl = {l}\\nh = {h}\\nm = {m}\\n~~~~~~~~~~~~~~~~~~')\n",
    "\n",
    "        if lista[m] == alvo:\n",
    "            resultado = print(f'O alvo foi encontrado na posição {m}')\n",
    "            return resultado\n",
    "        elif lista[m] < alvo:\n",
    "            l = m + 1\n",
    "        else:\n",
    "            h = m - 1\n",
    "    return -1\n",
    "\n",
    "busca_binaria(lista, alvo)"
   ]
  },
  {
   "cell_type": "markdown",
   "metadata": {},
   "source": [
    "## Exercício 2:\n",
    "Sem enunciado, fizemos de acordo com o que estava pedindo no exercício 4"
   ]
  },
  {
   "cell_type": "code",
   "execution_count": 26,
   "metadata": {},
   "outputs": [],
   "source": [
    "def adicionarClientes():\n",
    "    clientes = []\n",
    "\n",
    "    r = \"s\"\n",
    "    while r == \"s\":\n",
    "        cliente = input(\"Digite o nome do cliente: \")\n",
    "        clientes.append(cliente)\n",
    "\n",
    "        r = input(\"Digite 's' para continuar\").lower()\n",
    "\n",
    "    return clientes\n",
    "\n",
    "def atenderClientes(fila):\n",
    "    for i in range(len(fila)):\n",
    "        atendido = fila.pop(0)\n",
    "        print(f'Atendimento {i + 1}:')\n",
    "        print(\"Cliente atendido: \", atendido)\n",
    "        print(\"Clientes na fila: \", fila)\n",
    "        print(\"~~~~~~~~~~~~~~~~~~~~~~\")\n",
    "\n",
    "    print(\"Todos os clientes foram atendidos!\")"
   ]
  },
  {
   "cell_type": "code",
   "execution_count": 27,
   "metadata": {},
   "outputs": [],
   "source": [
    "# Adicionar\n",
    "clientes = adicionarClientes()"
   ]
  },
  {
   "cell_type": "code",
   "execution_count": null,
   "metadata": {},
   "outputs": [],
   "source": [
    "# Atender\n",
    "atenderClientes(clientes)"
   ]
  },
  {
   "cell_type": "markdown",
   "metadata": {},
   "source": [
    "## Exercício 3:\n",
    "Crie uma estrutura de entrada para registrar 10 carros (ex.: placas ou modelos). Utilize a estratégia LIFO (Last In, First Out) para simular a retirada de um estacionamento, onde o último carro a entrar é o primeiro a sair. Mostre a ordem de entrada e a sequência de saída."
   ]
  },
  {
   "cell_type": "code",
   "execution_count": 43,
   "metadata": {},
   "outputs": [],
   "source": [
    "def adicionarCarros():\n",
    "    carros = []\n",
    "    i = 0\n",
    "    \n",
    "    while i < 10:\n",
    "        carro = input(\"Digite a placa do carro: \")\n",
    "        carros.append(carro)\n",
    "\n",
    "        i += 1\n",
    "\n",
    "    return carros\n",
    "\n",
    "def retirarCarros(pilha):\n",
    "    print(f'Pilha com os carros adicionados: {pilha}')\n",
    "    print(\"~~~~~~~~~~~~~~~~~~~~~~\")\n",
    "    for i in range(len(pilha)):\n",
    "        retirado = pilha.pop()\n",
    "        print(f'Retirada {i + 1}:')\n",
    "        print(\"Carro retirado: \", retirado)\n",
    "        print(\"Carros esperando retirada: \", pilha)\n",
    "        print(\"~~~~~~~~~~~~~~~~~~~~~~\")\n",
    "\n",
    "    print(\"Todos os carros foram retirados!\")"
   ]
  },
  {
   "cell_type": "code",
   "execution_count": 44,
   "metadata": {},
   "outputs": [],
   "source": [
    "# Adiconar\n",
    "carros = adicionarCarros()"
   ]
  },
  {
   "cell_type": "code",
   "execution_count": null,
   "metadata": {},
   "outputs": [],
   "source": [
    "# Retirar\n",
    "retirarCarros(carros)"
   ]
  },
  {
   "cell_type": "markdown",
   "metadata": {},
   "source": [
    "## Exercício 4:\n",
    "Crie um algoritmo que permita ao usuário selecionar qual estrutura deseja utilizar:\n",
    "1. Ordenar a lista do Exercício 1 (busca binária). 2. Atender os clientes do Exercício 2 (FIFO).3. Retirar os carros do Exercício 3 (LIFO)."
   ]
  },
  {
   "cell_type": "code",
   "execution_count": null,
   "metadata": {},
   "outputs": [],
   "source": [
    "while True:\n",
    "    opcao = input(\"1. Ordenar a lista do Exercício 1 2. Atender os clientes do Exercício 2 3. Retirar os carros do Exercício 3 4. Sair\")\n",
    "\n",
    "    if opcao == '1':\n",
    "        lista.sort()\n",
    "        print(f'A lista do exercício 1 foi ordenada: ', lista)\n",
    "\n",
    "    elif opcao == '2':\n",
    "        if len(clientes) == 0:\n",
    "            atenderClientes(adicionarClientes())\n",
    "        else:\n",
    "            atenderClientes(clientes)\n",
    "    \n",
    "    elif opcao == '3':\n",
    "        if len(carros) == 0:\n",
    "            retirarCarros(adicionarCarros())\n",
    "        else:\n",
    "            retirarCarros(carros)\n",
    "\n",
    "    elif opcao == '4':\n",
    "        break"
   ]
  }
 ],
 "metadata": {
  "kernelspec": {
   "display_name": "Python 3",
   "language": "python",
   "name": "python3"
  },
  "language_info": {
   "codemirror_mode": {
    "name": "ipython",
    "version": 3
   },
   "file_extension": ".py",
   "mimetype": "text/x-python",
   "name": "python",
   "nbconvert_exporter": "python",
   "pygments_lexer": "ipython3",
   "version": "3.13.2"
  }
 },
 "nbformat": 4,
 "nbformat_minor": 2
}
