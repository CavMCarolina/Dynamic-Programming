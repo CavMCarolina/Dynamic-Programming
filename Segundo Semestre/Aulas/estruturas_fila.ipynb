{
 "cells": [
  {
   "cell_type": "markdown",
   "metadata": {},
   "source": [
    "# Busca Binária - Fila:"
   ]
  },
  {
   "cell_type": "code",
   "execution_count": 13,
   "metadata": {},
   "outputs": [
    {
     "name": "stdout",
     "output_type": "stream",
     "text": [
      "Iteração 1:\n",
      "l = 0\n",
      "h = 6\n",
      "m = 3\n",
      "~~~~~~~~~~~~~~~~~~\n",
      "Iteração 2:\n",
      "l = 4\n",
      "h = 6\n",
      "m = 5\n",
      "~~~~~~~~~~~~~~~~~~\n",
      "Iteração 3:\n",
      "l = 4\n",
      "h = 4\n",
      "m = 4\n",
      "~~~~~~~~~~~~~~~~~~\n",
      "O alvo foi encontrado na posição 4\n"
     ]
    }
   ],
   "source": [
    "# For\n",
    "def busca_binaria(lista, alvo):\n",
    "    l = 0\n",
    "    h = len(lista) - 1\n",
    "\n",
    "    i = 0\n",
    "    for i in range(len(lista)):\n",
    "        m = (l + h) // 2\n",
    "        print(f'Iteração {i + 1}:\\nl = {l}\\nh = {h}\\nm = {m}\\n~~~~~~~~~~~~~~~~~~')\n",
    "\n",
    "        if lista[m] == alvo:\n",
    "            resultado = print(f'O alvo foi encontrado na posição {m}')\n",
    "            return resultado\n",
    "        elif lista[m] < alvo:\n",
    "            l = m + 1\n",
    "        else:\n",
    "            h = m - 1\n",
    "    return -1\n",
    "\n",
    "lista = [11, 18, 24, 45, 50, 71, 95]\n",
    "alvo = 50\n",
    "\n",
    "busca_binaria(lista, alvo)"
   ]
  },
  {
   "cell_type": "code",
   "execution_count": 25,
   "metadata": {},
   "outputs": [
    {
     "name": "stdout",
     "output_type": "stream",
     "text": [
      "Iteração 1:\n",
      "l = 0\n",
      "h = 7\n",
      "m = 3\n",
      "~~~~~~~~~~~~~~~~~~\n",
      "Iteração 2:\n",
      "l = 0\n",
      "h = 2\n",
      "m = 1\n",
      "~~~~~~~~~~~~~~~~~~\n",
      "Iteração 3:\n",
      "l = 0\n",
      "h = 0\n",
      "m = 0\n",
      "~~~~~~~~~~~~~~~~~~\n",
      "0\n"
     ]
    }
   ],
   "source": [
    "# While\n",
    "def busca_binaria(lista, alvo):\n",
    "    l, h = 0, len(lista) - 1\n",
    "    i = 0\n",
    "\n",
    "    while l <= h:\n",
    "        i += 1\n",
    "        m = (l + h) // 2\n",
    "        print(f'Iteração {i}:\\nl = {l}\\nh = {h}\\nm = {m}\\n~~~~~~~~~~~~~~~~~~')\n",
    "\n",
    "        if lista[m] == alvo:\n",
    "            return m\n",
    "        elif lista[m] < alvo:\n",
    "            l = m + 1\n",
    "        else:\n",
    "            h = m - 1\n",
    "    return - 1\n",
    "\n",
    "lista_numeros = [10, 15, 17, 37, 199, 455, 1, 5]\n",
    "alvo = 1\n",
    "\n",
    "lista_ordenada = sorted(lista_numeros)\n",
    "resultado = busca_binaria(lista_ordenada, alvo)\n",
    "print(resultado)\n"
   ]
  },
  {
   "cell_type": "markdown",
   "metadata": {},
   "source": [
    "## Fila FIFO (First In, First Out)"
   ]
  },
  {
   "cell_type": "code",
   "execution_count": 30,
   "metadata": {},
   "outputs": [
    {
     "name": "stdout",
     "output_type": "stream",
     "text": [
      "['cliente 1', 'cliente 2', 'cliente 3']\n",
      "Cliente em atendimento: cliente 1\n",
      "Clientes na fila: ['cliente 2', 'cliente 3']\n"
     ]
    }
   ],
   "source": [
    "fila = ['cliente 1', 'cliente 2', 'cliente 3']\n",
    "print(fila)\n",
    "\n",
    "# pop(0) = tira o primeiro da fila\n",
    "cliente = fila.pop(0)\n",
    "print(\"Cliente em atendimento:\", cliente)\n",
    "print(\"Clientes na fila:\", fila)"
   ]
  },
  {
   "cell_type": "code",
   "execution_count": 31,
   "metadata": {},
   "outputs": [
    {
     "name": "stdout",
     "output_type": "stream",
     "text": [
      "['cliente 1', 'cliente 2', 'cliente 3']\n"
     ]
    }
   ],
   "source": [
    "# Criar a Fila\n",
    "fila = []\n",
    "\n",
    "fila.append('cliente 1')\n",
    "fila.append('cliente 2')\n",
    "fila.append('cliente 3')\n",
    "print(fila)"
   ]
  },
  {
   "cell_type": "code",
   "execution_count": 32,
   "metadata": {},
   "outputs": [
    {
     "name": "stdout",
     "output_type": "stream",
     "text": [
      "cliente 1\n",
      "cliente 2\n",
      "cliente 3\n",
      "cliente 4\n"
     ]
    }
   ],
   "source": [
    "# Usando while\n",
    "fila = ['cliente 1', 'cliente 2', 'cliente 3', 'cliente 4']\n",
    "\n",
    "while fila:\n",
    "    cliente = fila.pop(0)\n",
    "    print(cliente)\n"
   ]
  },
  {
   "cell_type": "code",
   "execution_count": 34,
   "metadata": {},
   "outputs": [
    {
     "name": "stdout",
     "output_type": "stream",
     "text": [
      "cliente 1\n",
      "cliente 2\n",
      "cliente 3\n",
      "cliente 4\n"
     ]
    }
   ],
   "source": [
    "# Usando for\n",
    "fila = ['cliente 1', 'cliente 2', 'cliente 3', 'cliente 4']\n",
    "\n",
    "for i in range(len(fila)):\n",
    "    cliente = fila.pop(0)\n",
    "    print(cliente)"
   ]
  },
  {
   "cell_type": "code",
   "execution_count": 53,
   "metadata": {},
   "outputs": [
    {
     "name": "stdout",
     "output_type": "stream",
     "text": [
      "Cliente atendido:  Carolina\n",
      "Clientes na fila:  ['Juan', 'Prof', 'Lupy']\n",
      "~~~~~~~~~~~~~~~~~~~~~~\n",
      "Cliente atendido:  Juan\n",
      "Clientes na fila:  ['Prof', 'Lupy']\n",
      "~~~~~~~~~~~~~~~~~~~~~~\n",
      "Cliente atendido:  Prof\n",
      "Clientes na fila:  ['Lupy']\n",
      "~~~~~~~~~~~~~~~~~~~~~~\n",
      "Cliente atendido:  Lupy\n",
      "Clientes na fila:  []\n",
      "~~~~~~~~~~~~~~~~~~~~~~\n",
      "Todos os clientes foram atendidos!\n"
     ]
    }
   ],
   "source": [
    "def criar_fila():\n",
    "    fila = []\n",
    "\n",
    "    r = \"s\"\n",
    "    while r == \"s\":\n",
    "        cliente = input(\"Digite o nome do cliente: \")\n",
    "        fila.append(cliente)\n",
    "\n",
    "        r = input(\"Digite 's' para continuar\").lower()\n",
    "\n",
    "    return fila\n",
    "\n",
    "def atender_clientes(fila):\n",
    "    for i in range(len(fila)):\n",
    "        atendido = fila.pop(0)\n",
    "        print(\"Cliente atendido: \", atendido)\n",
    "        print(\"Clientes na fila: \", fila)\n",
    "        print(\"~~~~~~~~~~~~~~~~~~~~~~\")\n",
    "\n",
    "    print(\"Todos os clientes foram atendidos!\")\n",
    "\n",
    "atender_clientes(criar_fila())\n"
   ]
  }
 ],
 "metadata": {
  "kernelspec": {
   "display_name": "Python 3",
   "language": "python",
   "name": "python3"
  },
  "language_info": {
   "codemirror_mode": {
    "name": "ipython",
    "version": 3
   },
   "file_extension": ".py",
   "mimetype": "text/x-python",
   "name": "python",
   "nbconvert_exporter": "python",
   "pygments_lexer": "ipython3",
   "version": "3.12.3"
  }
 },
 "nbformat": 4,
 "nbformat_minor": 2
}
