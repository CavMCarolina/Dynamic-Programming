{
 "cells": [
  {
   "cell_type": "markdown",
   "metadata": {},
   "source": [
    "# Busca Binária - Fila:"
   ]
  },
  {
   "cell_type": "code",
   "execution_count": 2,
   "metadata": {},
   "outputs": [
    {
     "name": "stdout",
     "output_type": "stream",
     "text": [
      "Iteração 1:\n",
      "l = 0\n",
      "h = 6\n",
      "m = 3\n",
      "~~~~~~~~~~~~~~~~~~\n",
      "Iteração 2:\n",
      "l = 4\n",
      "h = 6\n",
      "m = 5\n",
      "~~~~~~~~~~~~~~~~~~\n",
      "Iteração 3:\n",
      "l = 4\n",
      "h = 4\n",
      "m = 4\n",
      "~~~~~~~~~~~~~~~~~~\n",
      "O alvo foi encontrado na posição 4\n"
     ]
    }
   ],
   "source": [
    "# For\n",
    "def busca_binaria(lista, alvo):\n",
    "    l = 0\n",
    "    h = len(lista) - 1\n",
    "\n",
    "    i = 0\n",
    "    for i in range(len(lista)):\n",
    "        m = (l + h) // 2\n",
    "        print(f'Iteração {i + 1}:\\nl = {l}\\nh = {h}\\nm = {m}\\n~~~~~~~~~~~~~~~~~~')\n",
    "\n",
    "        if lista[m] == alvo:\n",
    "            resultado = print(f'O alvo foi encontrado na posição {m}')\n",
    "            return resultado\n",
    "        elif lista[m] < alvo:\n",
    "            l = m + 1\n",
    "        else:\n",
    "            h = m - 1\n",
    "    return -1\n",
    "\n",
    "lista = [11, 18, 24, 45, 50, 71, 95]\n",
    "alvo = 50\n",
    "\n",
    "busca_binaria(lista, alvo)"
   ]
  },
  {
   "cell_type": "code",
   "execution_count": 3,
   "metadata": {},
   "outputs": [
    {
     "name": "stdout",
     "output_type": "stream",
     "text": [
      "Iteração 1:\n",
      "l = 0\n",
      "h = 7\n",
      "m = 3\n",
      "~~~~~~~~~~~~~~~~~~\n",
      "Iteração 2:\n",
      "l = 0\n",
      "h = 2\n",
      "m = 1\n",
      "~~~~~~~~~~~~~~~~~~\n",
      "Iteração 3:\n",
      "l = 0\n",
      "h = 0\n",
      "m = 0\n",
      "~~~~~~~~~~~~~~~~~~\n",
      "0\n"
     ]
    }
   ],
   "source": [
    "# While\n",
    "def busca_binaria(lista, alvo):\n",
    "    l, h = 0, len(lista) - 1\n",
    "    i = 0\n",
    "\n",
    "    while l <= h:\n",
    "        i += 1\n",
    "        m = (l + h) // 2\n",
    "        print(f'Iteração {i}:\\nl = {l}\\nh = {h}\\nm = {m}\\n~~~~~~~~~~~~~~~~~~')\n",
    "\n",
    "        if lista[m] == alvo:\n",
    "            return m\n",
    "        elif lista[m] < alvo:\n",
    "            l = m + 1\n",
    "        else:\n",
    "            h = m - 1\n",
    "    return - 1\n",
    "\n",
    "lista_numeros = [10, 15, 17, 37, 199, 455, 1, 5]\n",
    "alvo = 1\n",
    "\n",
    "lista_ordenada = sorted(lista_numeros)\n",
    "resultado = busca_binaria(lista_ordenada, alvo)\n",
    "print(resultado)\n"
   ]
  },
  {
   "cell_type": "markdown",
   "metadata": {},
   "source": [
    "## Fila FIFO (First In, First Out)"
   ]
  },
  {
   "cell_type": "code",
   "execution_count": 4,
   "metadata": {},
   "outputs": [
    {
     "name": "stdout",
     "output_type": "stream",
     "text": [
      "['cliente 1', 'cliente 2', 'cliente 3']\n",
      "Cliente em atendimento: cliente 1\n",
      "Clientes na fila: ['cliente 2', 'cliente 3']\n"
     ]
    }
   ],
   "source": [
    "fila = ['cliente 1', 'cliente 2', 'cliente 3']\n",
    "print(fila)\n",
    "\n",
    "# pop(0) = tira o primeiro da fila\n",
    "cliente = fila.pop(0)\n",
    "print(\"Cliente em atendimento:\", cliente)\n",
    "print(\"Clientes na fila:\", fila)"
   ]
  },
  {
   "cell_type": "code",
   "execution_count": 5,
   "metadata": {},
   "outputs": [
    {
     "name": "stdout",
     "output_type": "stream",
     "text": [
      "['cliente 1', 'cliente 2', 'cliente 3']\n"
     ]
    }
   ],
   "source": [
    "# Criar a Fila\n",
    "fila = []\n",
    "\n",
    "fila.append('cliente 1')\n",
    "fila.append('cliente 2')\n",
    "fila.append('cliente 3')\n",
    "print(fila)"
   ]
  },
  {
   "cell_type": "code",
   "execution_count": 6,
   "metadata": {},
   "outputs": [
    {
     "name": "stdout",
     "output_type": "stream",
     "text": [
      "cliente 1\n",
      "cliente 2\n",
      "cliente 3\n",
      "cliente 4\n"
     ]
    }
   ],
   "source": [
    "# Usando while\n",
    "fila = ['cliente 1', 'cliente 2', 'cliente 3', 'cliente 4']\n",
    "\n",
    "while fila:\n",
    "    cliente = fila.pop(0)\n",
    "    print(cliente)\n"
   ]
  },
  {
   "cell_type": "code",
   "execution_count": 7,
   "metadata": {},
   "outputs": [
    {
     "name": "stdout",
     "output_type": "stream",
     "text": [
      "cliente 1\n",
      "cliente 2\n",
      "cliente 3\n",
      "cliente 4\n"
     ]
    }
   ],
   "source": [
    "# Usando for\n",
    "fila = ['cliente 1', 'cliente 2', 'cliente 3', 'cliente 4']\n",
    "\n",
    "for i in range(len(fila)):\n",
    "    cliente = fila.pop(0)\n",
    "    print(cliente)"
   ]
  },
  {
   "cell_type": "code",
   "execution_count": 8,
   "metadata": {},
   "outputs": [
    {
     "name": "stdout",
     "output_type": "stream",
     "text": [
      "Cliente atendido:  Carolina\n",
      "Clientes na fila:  ['Juan', 'Prof', 'Lupy']\n",
      "~~~~~~~~~~~~~~~~~~~~~~\n",
      "Cliente atendido:  Juan\n",
      "Clientes na fila:  ['Prof', 'Lupy']\n",
      "~~~~~~~~~~~~~~~~~~~~~~\n",
      "Cliente atendido:  Prof\n",
      "Clientes na fila:  ['Lupy']\n",
      "~~~~~~~~~~~~~~~~~~~~~~\n",
      "Cliente atendido:  Lupy\n",
      "Clientes na fila:  []\n",
      "~~~~~~~~~~~~~~~~~~~~~~\n",
      "Todos os clientes foram atendidos!\n"
     ]
    }
   ],
   "source": [
    "# Exercício\n",
    "def criar_fila():\n",
    "    fila = []\n",
    "\n",
    "    r = \"s\"\n",
    "    while r == \"s\":\n",
    "        cliente = input(\"Digite o nome do cliente: \")\n",
    "        fila.append(cliente)\n",
    "\n",
    "        r = input(\"Digite 's' para continuar\").lower()\n",
    "\n",
    "    return fila\n",
    "\n",
    "def atender_clientes(fila):\n",
    "    for i in range(len(fila)):\n",
    "        atendido = fila.pop(0)\n",
    "        print(\"Cliente atendido: \", atendido)\n",
    "        print(\"Clientes na fila: \", fila)\n",
    "        print(\"~~~~~~~~~~~~~~~~~~~~~~\")\n",
    "\n",
    "    print(\"Todos os clientes foram atendidos!\")\n",
    "\n",
    "atender_clientes(criar_fila())\n"
   ]
  },
  {
   "cell_type": "code",
   "execution_count": 14,
   "metadata": {},
   "outputs": [
    {
     "name": "stdout",
     "output_type": "stream",
     "text": [
      "Cliente com prioridade atendido:  Osmar\n",
      "Clientes na fila com prioridade:  ['Roberto', 'Vanessa']\n",
      "Clientes na fila sem prioridade:  ['Carolina', 'Juan', 'Lupy']\n",
      "~~~~~~~~~~~~~~~~~~~~~~\n",
      "Cliente com prioridade atendido:  Roberto\n",
      "Clientes na fila com prioridade:  ['Vanessa']\n",
      "Clientes na fila sem prioridade:  ['Carolina', 'Juan', 'Lupy']\n",
      "~~~~~~~~~~~~~~~~~~~~~~\n",
      "Cliente com prioridade atendido:  Vanessa\n",
      "Clientes na fila com prioridade:  []\n",
      "Clientes na fila sem prioridade:  ['Carolina', 'Juan', 'Lupy']\n",
      "~~~~~~~~~~~~~~~~~~~~~~\n",
      "Todos os clientes da fila de prioridade foram atendidos!\n",
      "~~~~~~~~~~~~~~~~~~~~~~\n",
      "Cliente sem prioridade atendido:  Carolina\n",
      "Clientes na fila sem prioridade:  ['Juan', 'Lupy']\n",
      "~~~~~~~~~~~~~~~~~~~~~~\n",
      "Cliente sem prioridade atendido:  Juan\n",
      "Clientes na fila sem prioridade:  ['Lupy']\n",
      "~~~~~~~~~~~~~~~~~~~~~~\n",
      "Cliente sem prioridade atendido:  Lupy\n",
      "Clientes na fila sem prioridade:  []\n",
      "~~~~~~~~~~~~~~~~~~~~~~\n",
      "Todos os clientes foram atendidos!\n"
     ]
    }
   ],
   "source": [
    "# Incrementando o exercício com lista de prioridade\n",
    "def criar_fila():\n",
    "    fila = []\n",
    "    fila_prioridade = []\n",
    "\n",
    "    r = \"s\"\n",
    "    while r == \"s\":\n",
    "        cliente = input(\"Digite o nome do cliente: \")\n",
    "        idade = int(input(\"Digite a idade do cliente: \"))\n",
    "\n",
    "        if idade >= 60:\n",
    "            fila_prioridade.append(cliente)\n",
    "        else:\n",
    "            fila.append(cliente)\n",
    "\n",
    "        r = input(\"Digite 's' para continuar\").lower()\n",
    "\n",
    "    return fila, fila_prioridade\n",
    "\n",
    "def atender_clientes(fila, fila_prioridade):\n",
    "    for i in range(len(fila_prioridade)):\n",
    "        atendido = fila_prioridade.pop(0)\n",
    "        print(\"Cliente com prioridade atendido: \", atendido)\n",
    "        print(\"Clientes na fila com prioridade: \", fila_prioridade)\n",
    "        print(\"Clientes na fila sem prioridade: \", fila)\n",
    "        print(\"~~~~~~~~~~~~~~~~~~~~~~\")\n",
    "    print(\"Todos os clientes da fila de prioridade foram atendidos!\")\n",
    "    print(\"~~~~~~~~~~~~~~~~~~~~~~\")\n",
    "\n",
    "    for i in range(len(fila)):\n",
    "        atendido = fila.pop(0)\n",
    "        print(\"Cliente sem prioridade atendido: \", atendido)\n",
    "        print(\"Clientes na fila sem prioridade: \", fila)\n",
    "        print(\"~~~~~~~~~~~~~~~~~~~~~~\")\n",
    "        \n",
    "    print(\"Todos os clientes foram atendidos!\")\n",
    "\n",
    "fila, fila_prioridade = criar_fila()\n",
    "atender_clientes(fila, fila_prioridade)\n"
   ]
  },
  {
   "cell_type": "code",
   "execution_count": null,
   "metadata": {},
   "outputs": [],
   "source": [
    "# Codigo do prof -> opcoes\n",
    "\n",
    "fila_alta_prioridade = []\n",
    "fila_baixa_prioridade = []\n",
    "\n",
    "while True:\n",
    "    opcao = input(\"1. Adicionar documento 2. Imprimir documento 3. Sair \")\n",
    "\n",
    "    if opcao == '1':\n",
    "        tipo = input(\"Insira o tipo de documento: \")\n",
    "        prioridade = input(\"Insira a prioridade (alta ou baixa)\").lower()\n",
    "\n",
    "        if prioridade == 'alta':\n",
    "            fila_alta_prioridade.append(tipo)\n",
    "        else:\n",
    "            fila_baixa_prioridade.append(tipo)\n",
    "\n",
    "    elif opcao == '2':\n",
    "        if fila_alta_prioridade:\n",
    "            print(f\"Imprimindo documento {fila_alta_prioridade.pop(0)}. Alta prioridade.\")\n",
    "        elif fila_baixa_prioridade:\n",
    "            print(f\"Imprimindo documento {fila_baixa_prioridade.pop(0)}. Baixa prioridade.\")\n",
    "        else:\n",
    "            print(f\"Não existem documentos na fila.\")\n",
    "\n",
    "    elif opcao == '3':\n",
    "        break\n",
    "\n",
    "print(fila_alta_prioridade, fila_baixa_prioridade)"
   ]
  },
  {
   "cell_type": "code",
   "execution_count": null,
   "metadata": {},
   "outputs": [],
   "source": [
    "# Tentativa de exercicio T-T\n",
    "\n",
    "fila1 = []\n",
    "fila2 = []\n",
    "fila3 = []\n",
    "fila4 = []\n",
    "fila5 = []\n",
    "\n",
    "while True:\n",
    "    opcao = input(\"1. Adicionar paciente 2. Mostrar filas 3. Atender pacientes 4. Sair\")\n",
    "    \n",
    "    if opcao == '1':\n",
    "        paciente = input(\"Digite o nome do paciente: \")\n",
    "        nivel = int(input(\"Digite o nivel de urgência do paciente (1-5): \"))\n",
    "\n",
    "        if nivel == '1':\n",
    "            fila1.append(paciente)\n",
    "        elif nivel == '2':\n",
    "            fila2.append(paciente)\n",
    "        elif nivel == '3':\n",
    "            fila3.append(paciente)\n",
    "        elif nivel == '4':\n",
    "            fila4.append(paciente)\n",
    "        elif nivel == '5':\n",
    "            fila5.append(paciente)\n",
    "\n",
    "    elif opcao == '2':\n",
    "        print(\"Filas Formadas:\") \n",
    "        print(f\"Fila de Urgência 5:\\n{fila5}\")\n",
    "        print(f\"Fila de Urgência 4:\\n{fila4}\")\n",
    "        print(f\"Fila de Urgência 3:\\n{fila3}\")\n",
    "        print(f\"Fila de Urgência 3:\\n{fila3}\")\n",
    "        print(f\"Fila de Urgência 2:\\n{fila2}\")\n",
    "        print(f\"Fila de Urgência 1:\\n{fila1}\")\n",
    "    \n",
    "    elif opcao == '3':\n",
    "        filas = [fila5, fila4, fila3, fila2, fila1]\n",
    "        for fila in filas:\n",
    "            for paciente in fila:\n",
    "                print(f\"Paciente atendido: {paciente}. Urgência: {nivel}\")\n",
    "\n",
    "    elif opcao == '4':\n",
    "        break"
   ]
  }
 ],
 "metadata": {
  "kernelspec": {
   "display_name": "Python 3",
   "language": "python",
   "name": "python3"
  },
  "language_info": {
   "codemirror_mode": {
    "name": "ipython",
    "version": 3
   },
   "file_extension": ".py",
   "mimetype": "text/x-python",
   "name": "python",
   "nbconvert_exporter": "python",
   "pygments_lexer": "ipython3",
   "version": "3.12.3"
  }
 },
 "nbformat": 4,
 "nbformat_minor": 2
}
