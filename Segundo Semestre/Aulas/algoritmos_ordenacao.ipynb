{
 "cells": [
  {
   "cell_type": "markdown",
   "metadata": {},
   "source": [
    "# Algoritmos de Ordenação"
   ]
  },
  {
   "cell_type": "markdown",
   "metadata": {},
   "source": [
    "## Merge Sort - Mistura"
   ]
  },
  {
   "cell_type": "code",
   "execution_count": null,
   "metadata": {},
   "outputs": [],
   "source": [
    "# OBS: estratégia de machine learning = busca em arvore: random forest (classificar/estimar algo). Usa varias arvores para determinar qual é a melhor para aquele dado. Tem uma biblioteca em scikit learn com ela."
   ]
  },
  {
   "cell_type": "code",
   "execution_count": 2,
   "metadata": {},
   "outputs": [
    {
     "name": "stdout",
     "output_type": "stream",
     "text": [
      "[2, 5]\n",
      "[8, 4, 3]\n",
      "8\n"
     ]
    }
   ],
   "source": [
    "# Arvore Binaria para ordenar:\n",
    "# 1 - Separar em elementos únicos (vai separando em duas listas ate sobrar apenas um elemento)\n",
    "# 2 - Ordenar em ordem crescente\n",
    "# Merge dos elementos únicos a partir do meio\n",
    "\n",
    "lista = [2, 5, 8, 4, 3]\n",
    "# Indice do meio\n",
    "meio = len(lista) // 2\n",
    "\n",
    "# Tudo na esquerda do meio\n",
    "esquerda = lista[:meio]\n",
    "# Tudo a partir do meio\n",
    "direita = lista[meio:]\n",
    "print(esquerda)\n",
    "print(direita)\n",
    "print(lista[meio])"
   ]
  },
  {
   "cell_type": "code",
   "execution_count": 9,
   "metadata": {},
   "outputs": [
    {
     "ename": "RecursionError",
     "evalue": "maximum recursion depth exceeded",
     "output_type": "error",
     "traceback": [
      "\u001b[1;31m---------------------------------------------------------------------------\u001b[0m",
      "\u001b[1;31mRecursionError\u001b[0m                            Traceback (most recent call last)",
      "Cell \u001b[1;32mIn[9], line 23\u001b[0m\n\u001b[0;32m     20\u001b[0m     \u001b[38;5;28;01mreturn\u001b[39;00m resultado \u001b[38;5;241m+\u001b[39m esquerda[i:] \u001b[38;5;241m+\u001b[39m direita[j:]\n\u001b[0;32m     22\u001b[0m lista1 \u001b[38;5;241m=\u001b[39m [\u001b[38;5;241m10\u001b[39m, \u001b[38;5;241m80\u001b[39m, \u001b[38;5;241m30\u001b[39m, \u001b[38;5;241m90\u001b[39m, \u001b[38;5;241m40\u001b[39m, \u001b[38;5;241m50\u001b[39m, \u001b[38;5;241m70\u001b[39m]\n\u001b[1;32m---> 23\u001b[0m \u001b[38;5;28mprint\u001b[39m(\u001b[43mmerge_sort\u001b[49m\u001b[43m(\u001b[49m\u001b[43mlista1\u001b[49m\u001b[43m)\u001b[49m)\n",
      "Cell \u001b[1;32mIn[9], line 6\u001b[0m, in \u001b[0;36mmerge_sort\u001b[1;34m(lista)\u001b[0m\n\u001b[0;32m      3\u001b[0m     \u001b[38;5;28;01mreturn\u001b[39;00m lista\n\u001b[0;32m      5\u001b[0m meio \u001b[38;5;241m-\u001b[39m \u001b[38;5;28mlen\u001b[39m(lista) \u001b[38;5;241m/\u001b[39m\u001b[38;5;241m/\u001b[39m \u001b[38;5;241m2\u001b[39m\n\u001b[1;32m----> 6\u001b[0m esquerda \u001b[38;5;241m=\u001b[39m \u001b[43mmerge_sort\u001b[49m\u001b[43m(\u001b[49m\u001b[43mlista\u001b[49m\u001b[43m[\u001b[49m\u001b[43m:\u001b[49m\u001b[43mmeio\u001b[49m\u001b[43m]\u001b[49m\u001b[43m)\u001b[49m\n\u001b[0;32m      7\u001b[0m direita \u001b[38;5;241m=\u001b[39m merge_sort(lista[meio:])\n\u001b[0;32m      9\u001b[0m resultado \u001b[38;5;241m=\u001b[39m []\n",
      "Cell \u001b[1;32mIn[9], line 6\u001b[0m, in \u001b[0;36mmerge_sort\u001b[1;34m(lista)\u001b[0m\n\u001b[0;32m      3\u001b[0m     \u001b[38;5;28;01mreturn\u001b[39;00m lista\n\u001b[0;32m      5\u001b[0m meio \u001b[38;5;241m-\u001b[39m \u001b[38;5;28mlen\u001b[39m(lista) \u001b[38;5;241m/\u001b[39m\u001b[38;5;241m/\u001b[39m \u001b[38;5;241m2\u001b[39m\n\u001b[1;32m----> 6\u001b[0m esquerda \u001b[38;5;241m=\u001b[39m \u001b[43mmerge_sort\u001b[49m\u001b[43m(\u001b[49m\u001b[43mlista\u001b[49m\u001b[43m[\u001b[49m\u001b[43m:\u001b[49m\u001b[43mmeio\u001b[49m\u001b[43m]\u001b[49m\u001b[43m)\u001b[49m\n\u001b[0;32m      7\u001b[0m direita \u001b[38;5;241m=\u001b[39m merge_sort(lista[meio:])\n\u001b[0;32m      9\u001b[0m resultado \u001b[38;5;241m=\u001b[39m []\n",
      "    \u001b[1;31m[... skipping similar frames: merge_sort at line 6 (2974 times)]\u001b[0m\n",
      "Cell \u001b[1;32mIn[9], line 6\u001b[0m, in \u001b[0;36mmerge_sort\u001b[1;34m(lista)\u001b[0m\n\u001b[0;32m      3\u001b[0m     \u001b[38;5;28;01mreturn\u001b[39;00m lista\n\u001b[0;32m      5\u001b[0m meio \u001b[38;5;241m-\u001b[39m \u001b[38;5;28mlen\u001b[39m(lista) \u001b[38;5;241m/\u001b[39m\u001b[38;5;241m/\u001b[39m \u001b[38;5;241m2\u001b[39m\n\u001b[1;32m----> 6\u001b[0m esquerda \u001b[38;5;241m=\u001b[39m \u001b[43mmerge_sort\u001b[49m\u001b[43m(\u001b[49m\u001b[43mlista\u001b[49m\u001b[43m[\u001b[49m\u001b[43m:\u001b[49m\u001b[43mmeio\u001b[49m\u001b[43m]\u001b[49m\u001b[43m)\u001b[49m\n\u001b[0;32m      7\u001b[0m direita \u001b[38;5;241m=\u001b[39m merge_sort(lista[meio:])\n\u001b[0;32m      9\u001b[0m resultado \u001b[38;5;241m=\u001b[39m []\n",
      "\u001b[1;31mRecursionError\u001b[0m: maximum recursion depth exceeded"
     ]
    }
   ],
   "source": [
    "def merge_sort(lista):\n",
    "    if len(lista) <= 1:\n",
    "        return lista\n",
    "\n",
    "    meio = len(lista) // 2\n",
    "    esquerda = merge_sort(lista[:meio])\n",
    "    direita = merge_sort(lista[meio:])\n",
    "\n",
    "    resultado = []\n",
    "    i = j = 0\n",
    "\n",
    "    while i < len(esquerda) and j < len(direita):\n",
    "        if esquerda[i] < direita[j]:\n",
    "            resultado.append(esquerda[i])\n",
    "            i += 1\n",
    "        else:\n",
    "            resultado.append(direita[j])\n",
    "            j += 1\n",
    "\n",
    "    return resultado + esquerda[i:] + direita[j:]\n",
    "\n",
    "lista1 = [10, 80, 30, 90, 40, 50, 70]\n",
    "print(merge_sort(lista1))"
   ]
  },
  {
   "cell_type": "markdown",
   "metadata": {},
   "source": [
    "## Quick Sort - Rápida"
   ]
  },
  {
   "cell_type": "code",
   "execution_count": null,
   "metadata": {},
   "outputs": [],
   "source": [
    "# pivot = normalmente o ultimo elemento da lista\n",
    "# listas de comparacao abaixo ou acima do pivot\n",
    "# reinicia o processo\n",
    "\n",
    "lista1 = [10, 80, 30, 90, 40, 50, 70]\n",
    "pivot = 70"
   ]
  },
  {
   "cell_type": "code",
   "execution_count": null,
   "metadata": {},
   "outputs": [],
   "source": []
  }
 ],
 "metadata": {
  "kernelspec": {
   "display_name": "Python 3",
   "language": "python",
   "name": "python3"
  },
  "language_info": {
   "codemirror_mode": {
    "name": "ipython",
    "version": 3
   },
   "file_extension": ".py",
   "mimetype": "text/x-python",
   "name": "python",
   "nbconvert_exporter": "python",
   "pygments_lexer": "ipython3",
   "version": "3.12.3"
  }
 },
 "nbformat": 4,
 "nbformat_minor": 2
}
