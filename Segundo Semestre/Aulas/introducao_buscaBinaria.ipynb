{
 "cells": [
  {
   "cell_type": "markdown",
   "metadata": {},
   "source": [
    "# Busca Binária\n",
    "- Precisa estar ordenada\n",
    "- l = limite inferior (inicialmente 0)\n",
    "- h = limite superior (último índice da lista)\n",
    "- m = (l+h)/2\n",
    "- Compara o alvo com o valor que esta no índice m\n",
    "- Se alvo = m, encerra a busca\n",
    "- Se alvo > m, l = m + 1\n",
    "- Se alvo < m, h = m - 1\n",
    "- Repete até l > h (alvo não encontrado) ou até encontrar"
   ]
  },
  {
   "cell_type": "code",
   "execution_count": 1,
   "metadata": {},
   "outputs": [
    {
     "name": "stdout",
     "output_type": "stream",
     "text": [
      "[1, 2, 5, 5, 6, 9]\n"
     ]
    }
   ],
   "source": [
    "lista = [5, 2, 9, 1, 5, 6]\n",
    "lista.sort()\n",
    "print(lista)"
   ]
  },
  {
   "cell_type": "code",
   "execution_count": 2,
   "metadata": {},
   "outputs": [
    {
     "name": "stdout",
     "output_type": "stream",
     "text": [
      "[9, 6, 5, 5, 2, 1]\n"
     ]
    }
   ],
   "source": [
    "lista.sort(reverse=True)\n",
    "print(lista)"
   ]
  },
  {
   "cell_type": "code",
   "execution_count": 3,
   "metadata": {},
   "outputs": [
    {
     "name": "stdout",
     "output_type": "stream",
     "text": [
      "[1, 2, 5, 5, 6, 9]\n"
     ]
    }
   ],
   "source": [
    "lista_ordenada = sorted(lista)\n",
    "print(lista_ordenada)"
   ]
  },
  {
   "cell_type": "code",
   "execution_count": 4,
   "metadata": {},
   "outputs": [
    {
     "name": "stdout",
     "output_type": "stream",
     "text": [
      "[9, 6, 5, 5, 2, 1]\n"
     ]
    }
   ],
   "source": [
    "lista_ordenada1 = sorted(lista, reverse=True)\n",
    "print(lista_ordenada1)"
   ]
  },
  {
   "cell_type": "code",
   "execution_count": 10,
   "metadata": {},
   "outputs": [
    {
     "name": "stdout",
     "output_type": "stream",
     "text": [
      "[('banana', '1'), ('laranja', 2), ('pera', 3), ('uva', 2)]\n"
     ]
    }
   ],
   "source": [
    "lista_frutas = [('banana', 1), ('uva', 2), ('laranja', 2), ('pera', 3)]\n",
    "lista_ord = sorted(lista_frutas, key=lambda x: x[0]) # Ordena de acordo com o índice da tupla\n",
    "print(lista_ord)"
   ]
  },
  {
   "cell_type": "code",
   "execution_count": 16,
   "metadata": {},
   "outputs": [
    {
     "name": "stdout",
     "output_type": "stream",
     "text": [
      "[('banana', 1, 100), ('laranja', 2, 122), ('pera', 3, 157), ('uva', 2, 121)]\n"
     ]
    }
   ],
   "source": [
    "# Ordenar de acordo com mais de uma variável\n",
    "lista_frutas = [('banana', 1, 100), ('uva', 2, 121), ('laranja', 2, 122), ('pera', 3, 157)]\n",
    "lista_ord = sorted(lista_frutas, key=lambda z: (z[0], z[1]))\n",
    "print(lista_ord)"
   ]
  }
 ],
 "metadata": {
  "kernelspec": {
   "display_name": "base",
   "language": "python",
   "name": "python3"
  },
  "language_info": {
   "codemirror_mode": {
    "name": "ipython",
    "version": 3
   },
   "file_extension": ".py",
   "mimetype": "text/x-python",
   "name": "python",
   "nbconvert_exporter": "python",
   "pygments_lexer": "ipython3",
   "version": "3.11.7"
  }
 },
 "nbformat": 4,
 "nbformat_minor": 2
}
