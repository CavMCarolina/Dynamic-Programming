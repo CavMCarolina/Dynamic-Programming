{
 "cells": [
  {
   "cell_type": "markdown",
   "metadata": {},
   "source": [
    "# Busca Linear/Busca Sequencial:\n",
    "encontrar um elemento dentro de uma lista. verifica sequencialmente cada elemento ate uma correspondencia ser encontrada ou  ate a lista inteira ter sido pesquisada"
   ]
  },
  {
   "cell_type": "markdown",
   "metadata": {},
   "source": [
    "## Criar elementos dentro da lista"
   ]
  },
  {
   "cell_type": "code",
   "execution_count": null,
   "metadata": {},
   "outputs": [],
   "source": [
    "# For\n",
    "numeros = []\n",
    "tamanho = int(input(\"Insira o tamanho do espaço de busca: \"))\n",
    "\n",
    "for i in range(tamanho):\n",
    "    numero = float(input(\"Digite um número que será inserido na lista: \"))\n",
    "    numeros.append(numero)\n",
    "\n",
    "print(\"Os respectivos valores são: \", numeros)"
   ]
  },
  {
   "cell_type": "code",
   "execution_count": null,
   "metadata": {},
   "outputs": [],
   "source": [
    "# While\n",
    "numeros = []\n",
    "tamanho = int(input(\"Insira o tamanho do espaço de busca: \"))\n",
    "i = 0\n",
    "\n",
    "while i < tamanho:\n",
    "    numero = float(input(\"Digite um número que será inserido na lista: \"))\n",
    "    numeros.append(numero)\n",
    "    i += 1\n",
    "\n",
    "print(\"Os respectivos valores são: \", numeros)"
   ]
  },
  {
   "cell_type": "markdown",
   "metadata": {},
   "source": [
    "## Buscar elementos na lista "
   ]
  },
  {
   "cell_type": "code",
   "execution_count": null,
   "metadata": {},
   "outputs": [],
   "source": [
    "# For\n",
    "lista = [10, 20, 30, 40, 50]\n",
    "alvo = 30\n",
    "\n",
    "for i in range(len(lista)):\n",
    "    if lista[i] == alvo:\n",
    "        print(f\"O alvo {alvo} foi encontrado na posição {i} da lista\")\n",
    "        break\n",
    "else:\n",
    "    print(\"O alvo não está na lista\")"
   ]
  },
  {
   "cell_type": "code",
   "execution_count": null,
   "metadata": {},
   "outputs": [],
   "source": [
    "# While\n",
    "lista = [10, 20, 30, 40, 50]\n",
    "alvo = 30\n",
    "k = 0\n",
    "\n",
    "while k < len(lista):\n",
    "    if lista[k] == alvo:\n",
    "        print(f\"O alvo {alvo} foi encontrado na posição {i} da lista\")\n",
    "        break\n",
    "    k += 1\n",
    "else:\n",
    "    print(\"O alvo não está na lista\")"
   ]
  },
  {
   "cell_type": "markdown",
   "metadata": {},
   "source": [
    "## Estruturas com função"
   ]
  },
  {
   "cell_type": "code",
   "execution_count": null,
   "metadata": {},
   "outputs": [],
   "source": [
    "# For\n",
    "def busca_linear(lista, alvo):\n",
    "    for i in range(len(lista)):\n",
    "        if lista[i] == alvo:\n",
    "            return i\n",
    "    return -1\n",
    "\n",
    "lista = [10, 20, 30, 40, 50]\n",
    "alvo = 30\n",
    "\n",
    "resultado = busca_linear(lista, alvo)\n",
    "\n",
    "if resultado != -1:\n",
    "    print(f\"O alvo {alvo} foi encontrado na posição {resultado} da lista\")\n",
    "else:\n",
    "    print(\"O alvo não está na lista!\")"
   ]
  },
  {
   "cell_type": "code",
   "execution_count": null,
   "metadata": {},
   "outputs": [],
   "source": [
    "# While\n",
    "def busca_linear(lista, alvo):\n",
    "    i = 0\n",
    "    while i < len(lista):\n",
    "        if lista[i] == alvo:\n",
    "            return i\n",
    "        i += 1\n",
    "    return -1\n",
    "\n",
    "lista = [10, 20, 30, 40, 50]\n",
    "alvo = 30\n",
    "\n",
    "resultado = busca_linear(lista, alvo)\n",
    "\n",
    "if resultado != -1:\n",
    "    print(f\"O alvo {alvo} foi encontrado na posição {resultado} da lista\")\n",
    "else:\n",
    "    print(\"O alvo não está na lista!\")"
   ]
  },
  {
   "cell_type": "markdown",
   "metadata": {},
   "source": [
    "## Exercícios:"
   ]
  },
  {
   "cell_type": "code",
   "execution_count": null,
   "metadata": {},
   "outputs": [],
   "source": [
    "# For\n",
    "pessoas = []\n",
    "alvo = 'carolina'\n",
    "tamanho = int(input(\"Insira o tamanho do espaço de busca: \"))\n",
    "\n",
    "for i in range(tamanho):\n",
    "    pessoa = input(\"Digite um número que será inserido na lista: \").lower()\n",
    "    pessoas.append(pessoa)\n",
    "\n",
    "def busca_linear(lista, alvo):\n",
    "    for i in range(len(lista)):\n",
    "        if lista[i] == alvo:\n",
    "            return i\n",
    "    return -1\n",
    "\n",
    "resultado = busca_linear(pessoas, alvo)\n",
    "if resultado != -1:\n",
    "    print(f\"O alvo '{alvo}' foi encontrado na posição {resultado} da lista\")\n",
    "else:\n",
    "    print(\"O alvo não está na lista!\")"
   ]
  },
  {
   "cell_type": "code",
   "execution_count": null,
   "metadata": {},
   "outputs": [],
   "source": [
    "# For\n",
    "pessoas = []\n",
    "alvo = 'carolina'\n",
    "tamanho = int(input(\"Insira o tamanho do espaço de busca: \"))\n",
    "\n",
    "i = 0\n",
    "while i < tamanho:\n",
    "    pessoa = input(\"Digite um número que será inserido na lista: \").lower()\n",
    "    pessoas.append(pessoa)\n",
    "    i += 1\n",
    "\n",
    "def busca_linear(lista, alvo):\n",
    "    i = 0\n",
    "    while i < len(lista):\n",
    "        if lista[i] == alvo:\n",
    "            return i\n",
    "        i += 1\n",
    "    return -1\n",
    "\n",
    "resultado = busca_linear(pessoas, alvo)\n",
    "if resultado != -1:\n",
    "    print(f\"O alvo '{alvo}' foi encontrado na posição {resultado} da lista\")\n",
    "else:\n",
    "    print(\"O alvo não está na lista!\")"
   ]
  },
  {
   "cell_type": "markdown",
   "metadata": {},
   "source": [
    "## Exemplo"
   ]
  },
  {
   "cell_type": "code",
   "execution_count": null,
   "metadata": {},
   "outputs": [],
   "source": [
    "pip install unidecode"
   ]
  },
  {
   "cell_type": "code",
   "execution_count": null,
   "metadata": {},
   "outputs": [],
   "source": [
    "from unidecode import unidecode\n",
    "\n",
    "produtos = ['Arroz', 'Feijão', 'Café', 'Macarrão', 'Açúcar', 'Óleo']\n",
    "produto_procurado = input('Digite o produto que deseja procurar: ')\n",
    "\n",
    "produto_procurado_norm = unidecode(produto_procurado).lower()\n",
    "\n",
    "for i in range(len(produtos)):\n",
    "    produto_normalizado = unidecode(produtos[i]).lower()\n",
    "    if produto_normalizado == produto_procurado_norm:\n",
    "        print(f\"O produto '{produtos[i]}' tem o índice {i}\")\n",
    "        break\n",
    "else:\n",
    "    print(f\"O produto '{produtos[i]}' não está na lista\")"
   ]
  }
 ],
 "metadata": {
  "kernelspec": {
   "display_name": "Python 3",
   "language": "python",
   "name": "python3"
  },
  "language_info": {
   "codemirror_mode": {
    "name": "ipython",
    "version": 3
   },
   "file_extension": ".py",
   "mimetype": "text/x-python",
   "name": "python",
   "nbconvert_exporter": "python",
   "pygments_lexer": "ipython3",
   "version": "3.12.3"
  }
 },
 "nbformat": 4,
 "nbformat_minor": 2
}
