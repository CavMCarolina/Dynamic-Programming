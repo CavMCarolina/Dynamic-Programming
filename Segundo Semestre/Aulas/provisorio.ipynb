{
 "cells": [
  {
   "cell_type": "code",
   "execution_count": 1,
   "metadata": {},
   "outputs": [
    {
     "name": "stdout",
     "output_type": "stream",
     "text": [
      "3\n",
      "[4, 3, 5]\n",
      "[9, 8, 7, 6]\n"
     ]
    }
   ],
   "source": [
    "lista = [4, 3, 5, 9, 8, 7, 6]\n",
    "\n",
    "meio = len(lista) // 2\n",
    "esquerda = lista[:meio]\n",
    "direita = lista[meio:]\n",
    "\n",
    "print(f'{meio}\\n{esquerda}\\n{direita}')"
   ]
  },
  {
   "cell_type": "code",
   "execution_count": 5,
   "metadata": {},
   "outputs": [
    {
     "name": "stdout",
     "output_type": "stream",
     "text": [
      "[2, 4, 6, 8, 10]\n",
      "[2, 4, 6, 8, 10]\n"
     ]
    }
   ],
   "source": [
    "lista = [1, 2, 3, 4, 5, 6, 7, 8, 9, 10]\n",
    "numeros = [x for x in lista if x%2 == 0]\n",
    "\n",
    "lista_nova = []\n",
    "for x in lista:\n",
    "    if x%2 == 0:\n",
    "        lista_nova.append(x)\n",
    "\n",
    "print(numeros)\n",
    "print(lista_nova)"
   ]
  },
  {
   "cell_type": "code",
   "execution_count": 6,
   "metadata": {},
   "outputs": [
    {
     "name": "stdout",
     "output_type": "stream",
     "text": [
      "[2, 6, 10]\n"
     ]
    }
   ],
   "source": [
    "lista = [1, 2, 3, 4, 5]\n",
    "numeros1 = [x*2 for x in lista if x%2 !=0]\n",
    "print(numeros1)"
   ]
  },
  {
   "cell_type": "code",
   "execution_count": 10,
   "metadata": {},
   "outputs": [
    {
     "name": "stdout",
     "output_type": "stream",
     "text": [
      "[0, 3]\n"
     ]
    }
   ],
   "source": [
    "letras = ['a', 'b', 'c', 'd']\n",
    "letra = [i for i, letra in enumerate(letras) if letra in ('a', 'd')]\n",
    "\n",
    "print(letra)"
   ]
  },
  {
   "cell_type": "code",
   "execution_count": 24,
   "metadata": {},
   "outputs": [
    {
     "name": "stdout",
     "output_type": "stream",
     "text": [
      "Lista = ([4, 2, 1], 7, [8, 9])\n"
     ]
    }
   ],
   "source": [
    "lista = [4, 8, 2, 9, 1, 7]\n",
    "pivot = lista[-1]\n",
    "\n",
    "# lista[:-1] -> sempre parte do pivot para não entrar em nenhuma lista\n",
    "menores = [x for x in lista[:-1] if x < pivot]\n",
    "maiores = [x for x in lista[:-1] if x >= pivot]\n",
    "\n",
    "print(f'Lista = {menores, pivot, maiores}')"
   ]
  },
  {
   "cell_type": "code",
   "execution_count": 27,
   "metadata": {},
   "outputs": [
    {
     "name": "stdout",
     "output_type": "stream",
     "text": [
      "Lista ordenada: [10, 30, 40, 50, 70, 80, 90]\n"
     ]
    }
   ],
   "source": [
    "def quick_sort(lista):\n",
    "    # so vai retornar a lista quando os elementos estiverem individuais\n",
    "    if len(lista) <= 1:\n",
    "        return lista\n",
    "\n",
    "    pivot = lista[-1]\n",
    "    menores = [x for x in lista[:-1] if x < pivot]\n",
    "    maiores = [x for x in lista[:-1] if x >= pivot]\n",
    "    return quick_sort(menores) + [pivot] + quick_sort(maiores)\n",
    "\n",
    "lista = [10, 80, 30, 90, 40, 50, 70]\n",
    "print(f'Lista ordenada: {quick_sort(lista)}')"
   ]
  }
 ],
 "metadata": {
  "kernelspec": {
   "display_name": "Python 3",
   "language": "python",
   "name": "python3"
  },
  "language_info": {
   "codemirror_mode": {
    "name": "ipython",
    "version": 3
   },
   "file_extension": ".py",
   "mimetype": "text/x-python",
   "name": "python",
   "nbconvert_exporter": "python",
   "pygments_lexer": "ipython3",
   "version": "3.12.3"
  }
 },
 "nbformat": 4,
 "nbformat_minor": 2
}
