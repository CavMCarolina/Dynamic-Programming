{
 "cells": [
  {
   "cell_type": "markdown",
   "metadata": {},
   "source": [
    "# Algoritmo Dijkstra:"
   ]
  },
  {
   "cell_type": "code",
   "execution_count": 26,
   "metadata": {},
   "outputs": [],
   "source": [
    "grafo = {\n",
    "    \"A\": [\"B\", \"C\"],\n",
    "    \"B\": [\"D\", \"E\"],\n",
    "    \"C\": [\"F\"],\n",
    "    \"D\": [],\n",
    "    \"E\": [\"F\"],\n",
    "    \"F\": []\n",
    "}"
   ]
  },
  {
   "cell_type": "code",
   "execution_count": 34,
   "metadata": {},
   "outputs": [
    {
     "name": "stdout",
     "output_type": "stream",
     "text": [
      "A B C D E F "
     ]
    }
   ],
   "source": [
    "from collections import deque\n",
    "def busca_largura(grafo, inicio):\n",
    "    visitados = set()\n",
    "    fila = deque([inicio])\n",
    "\n",
    "    while fila:\n",
    "        no = fila.popleft()\n",
    "        if no not in visitados:\n",
    "            print(no, end=\" \")\n",
    "            visitados.add(no)\n",
    "            fila.extend(grafo[no])\n",
    "\n",
    "busca_largura(grafo, \"A\")"
   ]
  },
  {
   "cell_type": "code",
   "execution_count": 28,
   "metadata": {},
   "outputs": [
    {
     "name": "stdout",
     "output_type": "stream",
     "text": [
      "DFS a partir do nó A:\n",
      "A B D E F C "
     ]
    }
   ],
   "source": [
    "from collections import deque\n",
    "def busca_profundidade(grafo, inicio, visitados = None):\n",
    "    if visitados is None:\n",
    "        visitados = set()\n",
    "\n",
    "    visitados.add(inicio)\n",
    "    print(inicio, end=\" \")\n",
    "\n",
    "    for vizinho in grafo[inicio]:\n",
    "        if vizinho not in visitados:\n",
    "            busca_profundidade(grafo, vizinho, visitados)\n",
    "\n",
    "print(\"DFS a partir do nó A:\")\n",
    "busca_profundidade(grafo, \"A\")"
   ]
  },
  {
   "cell_type": "code",
   "execution_count": 37,
   "metadata": {},
   "outputs": [
    {
     "name": "stdout",
     "output_type": "stream",
     "text": [
      "Collecting networkx\n",
      "  Downloading networkx-3.4.2-py3-none-any.whl.metadata (6.3 kB)\n",
      "Downloading networkx-3.4.2-py3-none-any.whl (1.7 MB)\n",
      "   ---------------------------------------- 0.0/1.7 MB ? eta -:--:--\n",
      "    --------------------------------------- 0.0/1.7 MB 1.4 MB/s eta 0:00:02\n",
      "   ---------------------------------------- 1.7/1.7 MB 22.0 MB/s eta 0:00:00\n",
      "Installing collected packages: networkx\n",
      "Successfully installed networkx-3.4.2\n",
      "Note: you may need to restart the kernel to use updated packages.\n"
     ]
    },
    {
     "name": "stderr",
     "output_type": "stream",
     "text": [
      "DEPRECATION: Loading egg at c:\\program files\\python312\\lib\\site-packages\\vboxapi-1.0-py3.12.egg is deprecated. pip 24.3 will enforce this behaviour change. A possible replacement is to use pip for package installation.. Discussion can be found at https://github.com/pypa/pip/issues/12330\n",
      "\n",
      "[notice] A new release of pip is available: 24.0 -> 25.1.1\n",
      "[notice] To update, run: python.exe -m pip install --upgrade pip\n"
     ]
    }
   ],
   "source": [
    "pip install networkx"
   ]
  },
  {
   "cell_type": "code",
   "execution_count": 6,
   "metadata": {},
   "outputs": [
    {
     "name": "stdout",
     "output_type": "stream",
     "text": [
      "Caminho mais curto de A até F:  A --> C --> B --> D --> E --> F\n",
      "Distância total: 12Km\n"
     ]
    }
   ],
   "source": [
    "import networkx as nx\n",
    "g1 = nx.Graph()\n",
    "arestas1 = [\n",
    "    ('A', 'B', 4),\n",
    "    ('A', 'C', 2),\n",
    "    ('B', 'C', 1),\n",
    "    ('B', 'D', 5),\n",
    "    ('C', 'D', 8),\n",
    "    ('C', 'E', 10),\n",
    "    ('D', 'E', 2),\n",
    "    ('D', 'F', 6),\n",
    "    ('E', 'F', 2)\n",
    "]\n",
    "\n",
    "g1.add_weighted_edges_from(arestas1)\n",
    "\n",
    "caminho1 = nx.dijkstra_path(g1, source='A', target='F')\n",
    "distancia1 = nx.dijkstra_path_length(g1, source='A', target='F')\n",
    "\n",
    "print(\"Caminho mais curto de A até F: \", \" --> \".join(caminho1))\n",
    "print(f'Distância total: {distancia1}Km')"
   ]
  }
 ],
 "metadata": {
  "kernelspec": {
   "display_name": "Python 3",
   "language": "python",
   "name": "python3"
  },
  "language_info": {
   "codemirror_mode": {
    "name": "ipython",
    "version": 3
   },
   "file_extension": ".py",
   "mimetype": "text/x-python",
   "name": "python",
   "nbconvert_exporter": "python",
   "pygments_lexer": "ipython3",
   "version": "3.12.3"
  }
 },
 "nbformat": 4,
 "nbformat_minor": 2
}
