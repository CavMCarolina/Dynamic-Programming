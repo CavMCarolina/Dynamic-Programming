{
 "cells": [
  {
   "cell_type": "markdown",
   "metadata": {},
   "source": [
    "# Estrutura de Ordenação Parcial:"
   ]
  },
  {
   "cell_type": "code",
   "execution_count": 2,
   "metadata": {},
   "outputs": [
    {
     "name": "stdout",
     "output_type": "stream",
     "text": [
      "[1, 4, 5]\n",
      "[12, 9, 8]\n"
     ]
    }
   ],
   "source": [
    "import heapq\n",
    "\n",
    "\n",
    "lista_numeros = [8, 1, 5, 9, 4, 12]\n",
    "n = 3\n",
    "\n",
    "menores = heapq.nsmallest(n, lista_numeros)\n",
    "maiores = heapq.nlargest(n, lista_numeros)\n",
    "\n",
    "print(menores)\n",
    "print(maiores)"
   ]
  },
  {
   "cell_type": "markdown",
   "metadata": {},
   "source": [
    "# Estrutura com Grafos:"
   ]
  },
  {
   "cell_type": "code",
   "execution_count": 4,
   "metadata": {},
   "outputs": [
    {
     "name": "stdout",
     "output_type": "stream",
     "text": [
      "{'A': ['B', 'C'], 'B': ['A', 'C', 'D', 'E'], 'C': ['A', 'B', 'E'], 'D': ['B', 'E', 'F'], 'E': ['B', 'C', 'D', 'F'], 'F': ['D', 'E']}\n"
     ]
    }
   ],
   "source": [
    "grafo = {\n",
    "    'A':['B', 'C'],\n",
    "    'B':['A', 'C' , 'D', 'E'],\n",
    "    'C':['A', 'B', 'E'],\n",
    "    'D':['B', 'E', 'F'],\n",
    "    'E':['B', 'C', 'D', 'F'],\n",
    "    'F':['D', 'E']\n",
    "    }\n",
    "\n",
    "print(grafo)"
   ]
  },
  {
   "cell_type": "code",
   "execution_count": 3,
   "metadata": {},
   "outputs": [
    {
     "name": "stdout",
     "output_type": "stream",
     "text": [
      "{'Alice': ['Bob', 'Charlie'], 'Bob': ['Alice', 'Diana'], 'Charlie': ['Alice', 'Diana'], 'Diana': ['Bob', 'Charlie', 'Eve'], 'Eve': ['Diana']}\n",
      "{'Alice', 'Diana'}\n"
     ]
    }
   ],
   "source": [
    "grafo_nomes ={\n",
    "    'Alice':['Bob', 'Charlie'],\n",
    "    'Bob':['Alice' , 'Diana'],\n",
    "    'Charlie':['Alice', 'Diana'],\n",
    "    'Diana':['Bob', 'Charlie', 'Eve'],\n",
    "    'Eve':['Diana']\n",
    "    }\n",
    "print(grafo_nomes)\n",
    "\n",
    "amigos_bob = set(grafo_nomes['Bob'])\n",
    "amigos_charlie =set(grafo_nomes['Charlie'])\n",
    "\n",
    "amigos_comum = amigos_bob & amigos_charlie\n",
    "print(amigos_comum)"
   ]
  },
  {
   "cell_type": "code",
   "execution_count": 5,
   "metadata": {},
   "outputs": [
    {
     "name": "stdout",
     "output_type": "stream",
     "text": [
      "Amigos em comum entre Maria e João:\n",
      "{'Pedro'}\n",
      "\n",
      "\n",
      "Amigos diferentes entre Pedro e Ana:\n",
      "{'Lucas', 'João', 'Ana'}\n",
      "\n",
      "\n",
      "A junção dos amigos de Lucas e Ana:\n",
      "{'Maria', 'Clara', 'Pedro', 'João'}\n"
     ]
    }
   ],
   "source": [
    "grafo_rede_social={\n",
    "    'Maria':['João', 'Pedro', 'Ana'],\n",
    "    'João':['Maria', 'Pedro', 'Lucas'],\n",
    "    'Pedro':['Maria', 'João', 'Ana', 'Lucas'],\n",
    "    'Ana':['Maria', 'Pedro', 'Clara'],\n",
    "    'Lucas':['João', 'Pedro'],\n",
    "    'Clara':['Ana']\n",
    "    }\n",
    "\n",
    "# Intersecção\n",
    "amigos_maria = set(grafo_rede_social['Maria'])\n",
    "amigos_joao = set(grafo_rede_social['João'])\n",
    "\n",
    "amigos_comun_rede = amigos_maria & amigos_joao\n",
    "print('Amigos em comum entre Maria e João:')\n",
    "print(amigos_comun_rede)\n",
    "print(\"\\n\")\n",
    "\n",
    "# Diferença\n",
    "amigos_pedro = set(grafo_rede_social['Pedro'])\n",
    "amigos_ana = set(grafo_rede_social['Ana'])\n",
    "\n",
    "amigos_diferente = amigos_pedro - amigos_ana\n",
    "print('Amigos diferentes entre Pedro e Ana:')\n",
    "print(amigos_diferente)\n",
    "print(\"\\n\")\n",
    "\n",
    "# União\n",
    "amigos_lucas = set(grafo_rede_social['Lucas'])\n",
    "\n",
    "amigos_uniao = amigos_ana | amigos_lucas\n",
    "print('A junção dos amigos de Lucas e Ana:')\n",
    "print(amigos_uniao)"
   ]
  }
 ],
 "metadata": {
  "kernelspec": {
   "display_name": "Python 3",
   "language": "python",
   "name": "python3"
  },
  "language_info": {
   "codemirror_mode": {
    "name": "ipython",
    "version": 3
   },
   "file_extension": ".py",
   "mimetype": "text/x-python",
   "name": "python",
   "nbconvert_exporter": "python",
   "pygments_lexer": "ipython3",
   "version": "3.12.3"
  }
 },
 "nbformat": 4,
 "nbformat_minor": 2
}
