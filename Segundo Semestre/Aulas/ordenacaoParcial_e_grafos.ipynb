{
 "cells": [
  {
   "cell_type": "markdown",
   "metadata": {},
   "source": [
    "# Estrutura de Ordenação Parcial:"
   ]
  },
  {
   "cell_type": "code",
   "execution_count": 2,
   "metadata": {},
   "outputs": [
    {
     "name": "stdout",
     "output_type": "stream",
     "text": [
      "[1, 4, 5]\n",
      "[12, 9, 8]\n"
     ]
    }
   ],
   "source": [
    "import heapq\n",
    "\n",
    "\n",
    "lista_numeros = [8, 1, 5, 9, 4, 12]\n",
    "n = 3\n",
    "\n",
    "menores = heapq.nsmallest(n, lista_numeros)\n",
    "maiores = heapq.nlargest(n, lista_numeros)\n",
    "\n",
    "print(menores)\n",
    "print(maiores)"
   ]
  },
  {
   "cell_type": "markdown",
   "metadata": {},
   "source": [
    "# Estrutura com Grafos:"
   ]
  },
  {
   "cell_type": "code",
   "execution_count": 4,
   "metadata": {},
   "outputs": [
    {
     "name": "stdout",
     "output_type": "stream",
     "text": [
      "{'A': ['B', 'C'], 'B': ['A', 'C', 'D', 'E'], 'C': ['A', 'B', 'E'], 'D': ['B', 'E', 'F'], 'E': ['B', 'C', 'D', 'F'], 'F': ['D', 'E']}\n"
     ]
    }
   ],
   "source": [
    "grafo = {\n",
    "    'A':['B', 'C'],\n",
    "    'B':['A', 'C' , 'D', 'E'],\n",
    "    'C':['A', 'B', 'E'],\n",
    "    'D':['B', 'E', 'F'],\n",
    "    'E':['B', 'C', 'D', 'F'],\n",
    "    'F':['D', 'E']\n",
    "    }\n",
    "\n",
    "print(grafo)"
   ]
  },
  {
   "cell_type": "code",
   "execution_count": 3,
   "metadata": {},
   "outputs": [
    {
     "name": "stdout",
     "output_type": "stream",
     "text": [
      "{'Alice': ['Bob', 'Charlie'], 'Bob': ['Alice', 'Diana'], 'Charlie': ['Alice', 'Diana'], 'Diana': ['Bob', 'Charlie', 'Eve'], 'Eve': ['Diana']}\n",
      "{'Alice', 'Diana'}\n"
     ]
    }
   ],
   "source": [
    "grafo_nomes ={\n",
    "    'Alice':['Bob', 'Charlie'],\n",
    "    'Bob':['Alice' , 'Diana'],\n",
    "    'Charlie':['Alice', 'Diana'],\n",
    "    'Diana':['Bob', 'Charlie', 'Eve'],\n",
    "    'Eve':['Diana']\n",
    "    }\n",
    "print(grafo_nomes)\n",
    "\n",
    "amigos_bob = set(grafo_nomes['Bob'])\n",
    "amigos_charlie =set(grafo_nomes['Charlie'])\n",
    "\n",
    "amigos_comum = amigos_bob & amigos_charlie\n",
    "print(amigos_comum)"
   ]
  },
  {
   "cell_type": "markdown",
   "metadata": {},
   "source": [
    "## Intersecção, Diferença e União"
   ]
  },
  {
   "cell_type": "code",
   "execution_count": 6,
   "metadata": {},
   "outputs": [],
   "source": [
    "amizades ={\n",
    "    'Maria':['João', 'Pedro', 'Ana'],\n",
    "    'João':['Maria', 'Pedro', 'Lucas'],\n",
    "    'Pedro':['Maria', 'João', 'Ana', 'Lucas'],\n",
    "    'Ana':['Maria', 'Pedro', 'Clara'],\n",
    "    'Lucas':['João', 'Pedro'],\n",
    "    'Clara':['Ana']\n",
    "    }"
   ]
  },
  {
   "cell_type": "code",
   "execution_count": 4,
   "metadata": {},
   "outputs": [
    {
     "name": "stdout",
     "output_type": "stream",
     "text": [
      "Amigos em comum entre Maria e João:\n",
      "{'Pedro'}\n"
     ]
    }
   ],
   "source": [
    "# Intersecção = amigos de Maria E João\n",
    "amigos_maria = set(amizades['Maria'])\n",
    "amigos_joao = set(amizades['João'])\n",
    "\n",
    "amigos_comun_rede = amigos_maria & amigos_joao\n",
    "print('Amigos em comum entre Maria e João:')\n",
    "print(amigos_comun_rede)"
   ]
  },
  {
   "cell_type": "code",
   "execution_count": 10,
   "metadata": {},
   "outputs": [
    {
     "name": "stdout",
     "output_type": "stream",
     "text": [
      "Amigos diferentes de Pedro para Ana: {'João', 'Lucas', 'Ana'}\n",
      "Amigos diferentes de Ana para Pedro: {'Clara', 'Pedro'}\n"
     ]
    }
   ],
   "source": [
    "# Diferença\n",
    "amigos_pedro = set(amizades['Pedro'])\n",
    "amigos_ana = set(amizades['Ana'])\n",
    "\n",
    "dif_pedro_ana = amigos_pedro - amigos_ana\n",
    "dif_ana_pedro = amigos_ana - amigos_pedro\n",
    "print(f'Amigos diferentes de Pedro para Ana: {dif_pedro_ana}')\n",
    "print(f'Amigos diferentes de Ana para Pedro: {dif_ana_pedro}')"
   ]
  },
  {
   "cell_type": "code",
   "execution_count": 11,
   "metadata": {},
   "outputs": [
    {
     "name": "stdout",
     "output_type": "stream",
     "text": [
      "A junção dos amigos de Lucas e Ana:\n",
      "{'Maria', 'Pedro', 'Clara', 'João'}\n"
     ]
    }
   ],
   "source": [
    "# União = amigos de Ana OU Lucas\n",
    "amigos_ana = set(amizades['Ana'])\n",
    "amigos_lucas = set(amizades['Lucas'])\n",
    "\n",
    "amigos_uniao = amigos_ana | amigos_lucas\n",
    "print('A junção dos amigos de Lucas e Ana:')\n",
    "print(amigos_uniao)"
   ]
  },
  {
   "cell_type": "markdown",
   "metadata": {},
   "source": [
    "# Exercícios:"
   ]
  },
  {
   "cell_type": "markdown",
   "metadata": {},
   "source": [
    "## Projetos:"
   ]
  },
  {
   "cell_type": "code",
   "execution_count": 1,
   "metadata": {},
   "outputs": [
    {
     "name": "stdout",
     "output_type": "stream",
     "text": [
      "Os materiais em comum entre o projeto 1 e o projeto 2 são: {'cola', 'verniz', 'tinta'}\n",
      "Os materiais exclusivos do projeto 3 em relação ao projeto 1 são: {'parafusos', 'papelão', 'cola quente'}\n",
      "Materiais em pelo menos um dos projetos 2 ou 5: {'papel', 'papelão', 'tinta', 'lixa', 'cola', 'verniz', 'pregos'}\n",
      "Materiais usados simultaneamente nos projetos 1, 2 ou 5: {'cola', 'tinta'}\n",
      "['cola', 'verniz', 'tinta', 'madeira', 'tinta', 'cola', 'cola', 'papelão', 'papel', 'tinta', 'pregos', 'madeira', 'parafusos', 'lixa', 'cimento', 'areia', 'papelão', 'cola quente', 'tinta']\n"
     ]
    }
   ],
   "source": [
    "materiais = {\n",
    "    \"Projeto1\": {\"madeira\", \"cola\", \"tinta\", \"pregos\", \"verniz\"},\n",
    "    \"Projeto2\": {\"cola\", \"papel\", \"tinta\", \"lixa\", \"verniz\"},\n",
    "    \"Projeto3\": {\"madeira\", \"papelão\", \"parafusos\", \"cola quente\"},\n",
    "    \"Projeto4\": {\"cimento\", \"areia\", \"tinta\", \"cola\"},\n",
    "    \"Projeto5\": {\"papel\", \"papelão\", \"cola\", \"tinta\", \"pregos\"},\n",
    "    \"Projeto6\": {\"madeira\", \"lixa\", \"parafusos\", \"cimento\"},\n",
    "    \"Projeto7\": {\"papelão\", \"cola quente\", \"tinta\", \"areia\"},\n",
    "}\n",
    "\n",
    "# Comum entre projeto 1 e 2\n",
    "projeto1 = set(materiais['Projeto1'])\n",
    "projeto2 = set(materiais['Projeto2'])\n",
    "\n",
    "materiais_em_comum = projeto1 & projeto2\n",
    "print(f'Os materiais em comum entre o projeto 1 e o projeto 2 são: {materiais_em_comum}')\n",
    "\n",
    "# Exclusivos do projeto 3 em relação ao projeto 1\n",
    "projeto3 = set(materiais['Projeto3'])\n",
    "\n",
    "exclusivo_projeto3 = projeto3 - projeto1\n",
    "print(f'Os materiais exclusivos do projeto 3 em relação ao projeto 1 são: {exclusivo_projeto3}')\n",
    "\n",
    "# Pelo menos em um dos projetos 2 ou 5\n",
    "projeto5 = set(materiais['Projeto5'])\n",
    "\n",
    "projetos2OU5 = projeto2 | projeto5\n",
    "print(f'Materiais em pelo menos um dos projetos 2 ou 5: {projetos2OU5}')\n",
    "\n",
    "# Usados simultaneamente nos projetos 1, 2 ou 5\n",
    "simultaneo = projeto1 & projeto2 & projeto5\n",
    "print(f'Materiais usados simultaneamente nos projetos 1, 2 ou 5: {simultaneo}')\n",
    "\n",
    "# Todos os materiais usados em pelo menos dois projetos diferentes\n",
    "vistos = []\n",
    "repetidos = []\n",
    "for i in materiais:\n",
    "    material = set(materiais[i])\n",
    "\n",
    "    for k in material:\n",
    "        if k in vistos:\n",
    "            repetidos.append(k)\n",
    "        else:\n",
    "            vistos.append(k)\n",
    "    \n",
    "print(repetidos)"
   ]
  },
  {
   "cell_type": "code",
   "execution_count": 3,
   "metadata": {},
   "outputs": [
    {
     "name": "stdout",
     "output_type": "stream",
     "text": [
      "Materiais usados em pelo menos dois projetos: {'areia', 'papelão', 'papel', 'tinta', 'cola quente', 'lixa', 'madeira', 'cola', 'verniz', 'cimento', 'parafusos', 'pregos'}\n"
     ]
    }
   ],
   "source": [
    "# Código do Prof\n",
    "\n",
    "vistos = set()\n",
    "repetidos = set()\n",
    "\n",
    "for materiais_do_projeto in materiais.values():\n",
    "    for material in materiais_do_projeto:\n",
    "        if material in vistos:\n",
    "            repetidos.add(material)\n",
    "        else:\n",
    "            vistos.add(material)\n",
    "\n",
    "print(f'Materiais usados em pelo menos dois projetos: {repetidos}')"
   ]
  },
  {
   "cell_type": "markdown",
   "metadata": {},
   "source": [
    "# Notas"
   ]
  },
  {
   "cell_type": "code",
   "execution_count": null,
   "metadata": {},
   "outputs": [],
   "source": [
    "# 1 - quais alunos tiraram notas iguais, entre dois alunos\n",
    "# 2 - qual notas ana tirou e bruno nao\n",
    "# 3 - uniao de todas as notas\n",
    "notas = {\n",
    "    'Ana': [8, 7, 9],\n",
    "    'Bruno': [5, 6, 7],\n",
    "    'Carlos': [8, 7, 6],\n",
    "    'Diana': [9, 9, 10],\n",
    "    'Eduardo': [6, 5, 4],\n",
    "}"
   ]
  }
 ],
 "metadata": {
  "kernelspec": {
   "display_name": "Python 3",
   "language": "python",
   "name": "python3"
  },
  "language_info": {
   "codemirror_mode": {
    "name": "ipython",
    "version": 3
   },
   "file_extension": ".py",
   "mimetype": "text/x-python",
   "name": "python",
   "nbconvert_exporter": "python",
   "pygments_lexer": "ipython3",
   "version": "3.12.3"
  }
 },
 "nbformat": 4,
 "nbformat_minor": 2
}
