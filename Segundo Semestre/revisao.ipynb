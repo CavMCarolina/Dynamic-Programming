{
 "cells": [
  {
   "cell_type": "markdown",
   "metadata": {},
   "source": [
    "# Revisão:"
   ]
  },
  {
   "cell_type": "markdown",
   "metadata": {},
   "source": [
    "<h3>O que é Programação Dinâmica?</h3>\n",
    "Lógica matemática para determinar a melhor decisão/a combinação ideal. Otimização\n",
    "<h3>Estrutura de Dados</h3>\n",
    "<ul>\n",
    "<li>Pilha (Stack) = estrutura LIFO (Last In, Fisrt Out)</li>\n",
    "<li>Fila (queue) = estrutura FIFO (First In, First Out)</li>\n",
    "<li>Lista</li>\n",
    "<li>Dicionário</li>\n",
    "<li>Árvore Binária:</li>\n",
    "<ul>\n",
    "    <li>É uma euristica/técnica de busca</li>\n",
    "    1- Busca em largura<br>\n",
    "    2- Busca em profundidade = não volta atrás (a -> b/c. Se b, vai para d/f e não pode voltar para c)\n",
    "</ul>\n",
    "<li>Grafos = gráfico de nós</li>\n",
    "</ul>\n",
    "OBS: Grafos e Árvore Binária são representados por dicionários"
   ]
  }
 ],
 "metadata": {
  "language_info": {
   "name": "python"
  }
 },
 "nbformat": 4,
 "nbformat_minor": 2
}
