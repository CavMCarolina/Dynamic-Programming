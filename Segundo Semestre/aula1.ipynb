{
 "cells": [
  {
   "cell_type": "markdown",
   "metadata": {},
   "source": [
    "# Estrutura de Entrada e Saída"
   ]
  },
  {
   "cell_type": "markdown",
   "metadata": {},
   "source": [
    "## Equação do primeiro grau (ax + b = 0)\n",
    "Estrutura de entrada para coeficientes a e b. Saída será x"
   ]
  },
  {
   "cell_type": "code",
   "execution_count": null,
   "metadata": {},
   "outputs": [],
   "source": [
    "def coeficientes():\n",
    "    a = float(input(\"Digite um valor para a: \"))\n",
    "    b = float(input(\"Digite um valor para b:\"))\n",
    "\n",
    "    return a, b\n",
    "\n",
    "def calculo(a, b):\n",
    "    x = -b / a\n",
    "    return x\n",
    "\n",
    "a, b = coeficientes()\n",
    "print(f'O valor de x é {calculo(a, b)}')"
   ]
  },
  {
   "cell_type": "markdown",
   "metadata": {},
   "source": [
    "## Cálculo de corrente, tensão e potência"
   ]
  },
  {
   "cell_type": "markdown",
   "metadata": {},
   "source": [
    "### Exercicio 1:\n",
    "Entrada = potência e voltagem. Saída = corrente"
   ]
  },
  {
   "cell_type": "code",
   "execution_count": 13,
   "metadata": {},
   "outputs": [],
   "source": [
    "def entrada():\n",
    "    p = float(input(\"Digite um valor para a potência: \"))\n",
    "    v = float(input(\"Digite um valor para a voltagem:\"))\n",
    "\n",
    "    return p, v\n",
    "\n",
    "def calculo(p, v):\n",
    "    i = p / v\n",
    "    return i\n",
    "\n",
    "p, v = entrada()\n",
    "print(f'O valor da corrente é {calculo(p, v)}A')"
   ]
  },
  {
   "cell_type": "markdown",
   "metadata": {},
   "source": [
    "### Exercicio 2:\n",
    "Entrada = resistência e corrente. Saída = voltagem"
   ]
  },
  {
   "cell_type": "code",
   "execution_count": null,
   "metadata": {},
   "outputs": [],
   "source": [
    "def entrada():\n",
    "    r = float(input(\"Digite um valor para a resistência: \"))\n",
    "    i = float(input(\"Digite um valor para a corrente:\"))\n",
    "\n",
    "    return r, i\n",
    "\n",
    "def calculo(r, i):\n",
    "    v = r * i\n",
    "    return v\n",
    "\n",
    "r, i = entrada()\n",
    "print(f'O valor da voltagem é {calculo(r, i)}V')"
   ]
  },
  {
   "cell_type": "markdown",
   "metadata": {},
   "source": [
    "### Exercicio 3:\n",
    "Entrada = resistência e corrente. Saída = potência"
   ]
  },
  {
   "cell_type": "code",
   "execution_count": null,
   "metadata": {},
   "outputs": [],
   "source": [
    "def entrada():\n",
    "    r = float(input(\"Digite um valor para a resistência: \"))\n",
    "    i = float(input(\"Digite um valor para a corrente:\"))\n",
    "\n",
    "    return r, i\n",
    "\n",
    "def calculo(r, i):\n",
    "    p = r * i**2\n",
    "    return p\n",
    "\n",
    "r, i = entrada()\n",
    "print(f'O valor da potência é {calculo(r, i)}W')"
   ]
  },
  {
   "cell_type": "markdown",
   "metadata": {},
   "source": [
    "# Estrutura de Condição"
   ]
  },
  {
   "cell_type": "markdown",
   "metadata": {},
   "source": [
    "## Exemplo"
   ]
  },
  {
   "cell_type": "code",
   "execution_count": null,
   "metadata": {},
   "outputs": [],
   "source": [
    "idade = int(input(\"Digite sua idade: \"))\n",
    "\n",
    "if idade < 12:\n",
    "    print(\"Criança\")\n",
    "elif 18 > idade >= 12 :\n",
    "    print(\"Adolescente\")\n",
    "else:\n",
    "    print(\"Adulto\")"
   ]
  },
  {
   "cell_type": "markdown",
   "metadata": {},
   "source": [
    "## Exercicio 1:\n",
    "Crie um algoritmo com estrutura de entrada para o usuário para solicitar o clima (ensolarado, chuvoso, nublado e nevando)"
   ]
  },
  {
   "cell_type": "code",
   "execution_count": null,
   "metadata": {},
   "outputs": [],
   "source": [
    "tempo = input(\"Digite como está o tempo hoje: \").lower()\n",
    "\n",
    "if tempo == 'ensolarado':\n",
    "    print(\"Dia de futebol e churrasco\")\n",
    "elif tempo == 'chuvoso':\n",
    "    print(\"Dia de ficar em casa e assistir série\")\n",
    "elif tempo == 'nublado':\n",
    "    print(\"Dia de tomar café ou chá\")\n",
    "elif tempo == 'nevando':\n",
    "    print(\"Dia de esquiar\")\n",
    "else:\n",
    "    print(\"Por favor, responda com: ensolarado, chuvoso, neblado ou nevando\")"
   ]
  },
  {
   "cell_type": "markdown",
   "metadata": {},
   "source": [
    "## Exercicio 2:\n",
    "Crie um algoritmo para solicitar o tipo de figura geométrica. Ao selecionar a figura geométrica (cilindro e retangulo), solicite as respectivas variaveis: raio e altura para cilindro, altura, largura e comprimento para retangulo. \n",
    "Retore a area e o volume para as duas figuras geometricas"
   ]
  },
  {
   "cell_type": "code",
   "execution_count": null,
   "metadata": {},
   "outputs": [],
   "source": [
    "figura = input(\"Digite 'c' caso sua figura seja um cilíndro e 'r' caso seja um retângulo\").lower()\n",
    "\n",
    "if figura == 'c':\n",
    "    raio = float(input(\"Digite o raio do cilíndro\"))\n",
    "    altura_c = float(input(\"Digite a altura do cilíndro\"))\n",
    "\n",
    "    area_c = 2*3.1415 * raio * (raio + altura_c)\n",
    "    volume_c = 3.1415 * raio**2 * altura_c\n",
    "    print(f'A área do cilíndro é {area_c:.2}cm ao quadrado\\nO volume do cilíndro é {volume_c:.2}cm ao cubo')\n",
    "elif figura == 'r':\n",
    "    altura_r = float(input(\"Digite a altura do retângulo\"))\n",
    "    largura = float(input(\"Digite a largura do retângulo\"))\n",
    "    comprimento = float(input(\"Digite o comprimento do retângulo\"))\n",
    "\n",
    "    area_r = altura_r * largura\n",
    "    volume_r = largura * comprimento * altura_r\n",
    "    print(f'A área do retângulo é {area_r:.2}cm ao quadrado\\nO volume do retângulo é {volume_r:.2}cm ao cubo')\n",
    "else:\n",
    "    print(\"Por favor digite 'c' caso sua figura seja um cilíndro e 'r' caso seja um retângulo\")\n",
    "\n"
   ]
  },
  {
   "cell_type": "markdown",
   "metadata": {},
   "source": [
    "# Estrutura de Repetição"
   ]
  },
  {
   "cell_type": "code",
   "execution_count": 22,
   "metadata": {},
   "outputs": [
    {
     "name": "stdout",
     "output_type": "stream",
     "text": [
      "1\n",
      "2\n",
      "4\n"
     ]
    }
   ],
   "source": [
    "# Busca Linear\n",
    "lista = [1, 2, 3, 4]\n",
    "\n",
    "for k in lista:\n",
    "    if k == 3:\n",
    "        # para no 2, nao mostra 3 e 4\n",
    "        #break \n",
    "        # 3 sai da fila, mas os outros continuam\n",
    "        continue\n",
    "    print(k)"
   ]
  },
  {
   "cell_type": "code",
   "execution_count": 28,
   "metadata": {},
   "outputs": [
    {
     "name": "stdout",
     "output_type": "stream",
     "text": [
      "1\n",
      "3\n",
      "5\n"
     ]
    }
   ],
   "source": [
    "n = 0\n",
    "\n",
    "while n < 5:\n",
    "    n += 1\n",
    "\n",
    "    if n == 2 or n == 4:\n",
    "        continue\n",
    "    print(n)"
   ]
  }
 ],
 "metadata": {
  "kernelspec": {
   "display_name": "Python 3",
   "language": "python",
   "name": "python3"
  },
  "language_info": {
   "codemirror_mode": {
    "name": "ipython",
    "version": 3
   },
   "file_extension": ".py",
   "mimetype": "text/x-python",
   "name": "python",
   "nbconvert_exporter": "python",
   "pygments_lexer": "ipython3",
   "version": "3.12.3"
  }
 },
 "nbformat": 4,
 "nbformat_minor": 2
}
