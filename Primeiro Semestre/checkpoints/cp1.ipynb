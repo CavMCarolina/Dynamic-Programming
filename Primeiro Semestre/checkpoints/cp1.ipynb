{
 "cells": [
  {
   "cell_type": "markdown",
   "metadata": {},
   "source": [
    "# Checkpoint 1:"
   ]
  },
  {
   "cell_type": "markdown",
   "metadata": {},
   "source": [
    "## Exercício 1:\n",
    "Faça uma implementação destes algoritmos usando uma variável que conta a\n",
    "quantidade de trocas que cada algoritmo faz"
   ]
  },
  {
   "cell_type": "code",
   "execution_count": 132,
   "metadata": {},
   "outputs": [
    {
     "name": "stdout",
     "output_type": "stream",
     "text": [
      "O Selection Sort fez 4 trocas para a lista ficar ordenada como: [1, 2, 3, 4, 7]\n"
     ]
    }
   ],
   "source": [
    "# Selection Sort\n",
    "def selection(vetor):\n",
    "    contagem = 0\n",
    "    for i in range(len(vetor)):\n",
    "        id_min = i\n",
    "        for j in range (i + 1, len(vetor)):\n",
    "            if vetor[j] < vetor[id_min]:\n",
    "                id_min = j\n",
    "        # Se i = j (ou seja, vetor[j] < vetor[id_min]), faz a troca, se não, significa que já está ordenado e não fará a troca\n",
    "        if id_min != i:\n",
    "            vetor[i], vetor[id_min] = vetor[id_min], vetor[i]\n",
    "            contagem += 1\n",
    "            #print(contagem, vetor)\n",
    "    return contagem, vetor\n",
    "\n",
    "lista = [7, 1, 4, 2, 3]\n",
    "contagem, ordenado = selection(lista)\n",
    "print(f'O Selection Sort fez {contagem} trocas para a lista ficar ordenada como: {ordenado}')"
   ]
  },
  {
   "cell_type": "code",
   "execution_count": 118,
   "metadata": {},
   "outputs": [
    {
     "name": "stdout",
     "output_type": "stream",
     "text": [
      "O Insertion Sort fez 6 trocas para a lista ficar ordenada como: [1, 2, 3, 4, 7]\n"
     ]
    }
   ],
   "source": [
    "# Insertion Sort\n",
    "def insertion(vetor):\n",
    "    contagem = 0\n",
    "    for i in range(1, len(vetor)):\n",
    "        chave = vetor[i]\n",
    "        j = i - 1\n",
    "        #print(chave)\n",
    "\n",
    "        while j >= 0 and vetor[j] > chave:\n",
    "            vetor[j + 1] = vetor[j]\n",
    "            j -= 1\n",
    "            contagem += 1\n",
    "      \n",
    "        vetor[j + 1] = chave\n",
    "        #print(contagem, vetor)\n",
    "    return contagem, vetor\n",
    "\n",
    "lista = [7, 1, 4, 2, 3]\n",
    "contagem, ordenado = insertion(lista)\n",
    "print(f'O Insertion Sort fez {contagem} trocas para a lista ficar ordenada como: {ordenado}')"
   ]
  },
  {
   "cell_type": "code",
   "execution_count": 119,
   "metadata": {},
   "outputs": [
    {
     "name": "stdout",
     "output_type": "stream",
     "text": [
      "O Bubble Sort fez 6 trocas para a lista ficar ordenada como: [1, 2, 3, 4, 7]\n"
     ]
    }
   ],
   "source": [
    "# Bubble Sort\n",
    "def bubble(vetor):\n",
    "    contagem = 0\n",
    "    tamanho = len(vetor)\n",
    "    i = 0\n",
    "    troca = True\n",
    "\n",
    "    while i < tamanho - 1 and troca != False:\n",
    "        troca = False\n",
    "\n",
    "        for j in range(tamanho -i - 1):\n",
    "            if vetor[j] > vetor[j + 1]:\n",
    "                vetor[j], vetor[j + 1] = vetor[j + 1], vetor[j]\n",
    "                troca = True\n",
    "                contagem += 1\n",
    "                #print(contagem, vetor)\n",
    "        i += 1\n",
    "    return contagem, vetor\n",
    "\n",
    "lista = [7, 1, 4, 2, 3]\n",
    "contagem, ordenado = bubble(lista)\n",
    "print(f'O Bubble Sort fez {contagem} trocas para a lista ficar ordenada como: {ordenado}')\n"
   ]
  },
  {
   "cell_type": "markdown",
   "metadata": {},
   "source": [
    "## Exercício 2:\n",
    "\n",
    "Execute as implementações para vetores ordenados em ordem crescente,\n",
    "decrescente e vetores não ordenados e anote o número de trocas"
   ]
  },
  {
   "cell_type": "code",
   "execution_count": 124,
   "metadata": {},
   "outputs": [
    {
     "name": "stdout",
     "output_type": "stream",
     "text": [
      "Lista Crescente: 0\n",
      "Lista Decrescente: 3\n",
      "Lista Não Ordenada: 5\n"
     ]
    }
   ],
   "source": [
    "# Selection Sort\n",
    "lista_crescente = [1, 2, 5, 8, 19, 30]\n",
    "lista_decrescente = [30, 19, 8, 5, 2, 1]\n",
    "lista_nao_ordenada = [5, 30, 2, 19, 1, 8]\n",
    "crescente, vetor = selection(lista_crescente)\n",
    "decrescente, vetor = selection(lista_decrescente)\n",
    "nao_ordenada, vetor = selection(lista_nao_ordenada)\n",
    "\n",
    "print(f'Lista Crescente: {crescente}')\n",
    "print(f'Lista Decrescente: {decrescente}')\n",
    "print(f'Lista Não Ordenada: {nao_ordenada}')"
   ]
  },
  {
   "cell_type": "code",
   "execution_count": 125,
   "metadata": {},
   "outputs": [
    {
     "name": "stdout",
     "output_type": "stream",
     "text": [
      "Lista Crescente: 0\n",
      "Lista Decrescente: 15\n",
      "Lista Não Ordenada: 9\n"
     ]
    }
   ],
   "source": [
    "# Insertion Sort\n",
    "lista_crescente = [1, 2, 5, 8, 19, 30]\n",
    "lista_decrescente = [30, 19, 8, 5, 2, 1]\n",
    "lista_nao_ordenada = [5, 30, 2, 19, 1, 8]\n",
    "crescente, vetor = insertion(lista_crescente)\n",
    "decrescente, vetor = insertion(lista_decrescente)\n",
    "nao_ordenada, vetor = insertion(lista_nao_ordenada)\n",
    "\n",
    "print(f'Lista Crescente: {crescente}')\n",
    "print(f'Lista Decrescente: {decrescente}')\n",
    "print(f'Lista Não Ordenada: {nao_ordenada}')"
   ]
  },
  {
   "cell_type": "code",
   "execution_count": 126,
   "metadata": {},
   "outputs": [
    {
     "name": "stdout",
     "output_type": "stream",
     "text": [
      "Lista Crescente: 0\n",
      "Lista Decrescente: 15\n",
      "Lista Não Ordenada: 9\n"
     ]
    }
   ],
   "source": [
    "# Bubble Sort\n",
    "lista_crescente = [1, 2, 5, 8, 19, 30]\n",
    "lista_decrescente = [30, 19, 8, 5, 2, 1]\n",
    "lista_nao_ordenada = [5, 30, 2, 19, 1, 8]\n",
    "crescente, vetor = bubble(lista_crescente)\n",
    "decrescente, vetor = bubble(lista_decrescente)\n",
    "nao_ordenada, vetor = bubble(lista_nao_ordenada)\n",
    "\n",
    "print(f'Lista Crescente: {crescente}')\n",
    "print(f'Lista Decrescente: {decrescente}')\n",
    "print(f'Lista Não Ordenada: {nao_ordenada}')"
   ]
  },
  {
   "cell_type": "markdown",
   "metadata": {},
   "source": [
    "## Exercício 3:\n",
    "Analise o número de trocas para cada uma das entradas e diga, caso\n",
    "exista um, qual é o algoritmo mais eficiente (baseado no número de\n",
    "trocas)"
   ]
  },
  {
   "cell_type": "markdown",
   "metadata": {},
   "source": [
    "### Resposta/Análise:\n",
    "Ao observarmos os algoritmos do exercício 2, é possível perceber que nenhum deles realizou troca quando a lista era crescente, uma vez que já estava ordenada. Comparando o resultado entre os três, o Selection Sort foi o que apresentou melhor resultado, além disso, o Insertion e o Bubble Sort tiveram as mesmas quantidades de trocas feitas nas listas decrescente e não ordenada.\n",
    "\n",
    "No teste com uma lista maior, a diferença entre as ordenações fica ainda mais descrepante, mostrando que o motivo do Selection Sort ter feito menos trocas não era por causa do tamanho da lista, assim, podendo concluir que o Selection é o mais eficiente."
   ]
  },
  {
   "cell_type": "markdown",
   "metadata": {},
   "source": [
    "### Teste com uma lista maior:"
   ]
  },
  {
   "cell_type": "code",
   "execution_count": 133,
   "metadata": {},
   "outputs": [
    {
     "name": "stdout",
     "output_type": "stream",
     "text": [
      "Lista Crescente: 0\n",
      "Lista Decrescente: 10\n",
      "Lista Não Ordenada: 15\n"
     ]
    }
   ],
   "source": [
    "# Selection Sort\n",
    "lista_crescente = [12, 13, 19, 24, 29, 33, 37, 41, 43, 53, 55, 57, 61, 68, 75, 82, 88, 90, 92, 96]\n",
    "lista_decrescente = [96, 92, 90, 88, 82, 75, 68, 61, 57, 55, 53, 43, 41, 37, 33, 29, 24, 19, 13, 12]\n",
    "lista_nao_ordenada = [88, 24, 75, 13, 92, 57, 43, 68, 19, 37, 82, 29, 53, 12, 41, 90, 61, 55, 33, 96]\n",
    "crescente, vetor = selection(lista_crescente)\n",
    "decrescente, vetor = selection(lista_decrescente)\n",
    "nao_ordenada, vetor = selection(lista_nao_ordenada)\n",
    "\n",
    "print(f'Lista Crescente: {crescente}')\n",
    "print(f'Lista Decrescente: {decrescente}')\n",
    "print(f'Lista Não Ordenada: {nao_ordenada}')"
   ]
  },
  {
   "cell_type": "code",
   "execution_count": 128,
   "metadata": {},
   "outputs": [
    {
     "name": "stdout",
     "output_type": "stream",
     "text": [
      "Lista Crescente: 0\n",
      "Lista Decrescente: 190\n",
      "Lista Não Ordenada: 93\n"
     ]
    }
   ],
   "source": [
    "# Insertion Sort\n",
    "lista_crescente = [12, 13, 19, 24, 29, 33, 37, 41, 43, 53, 55, 57, 61, 68, 75, 82, 88, 90, 92, 96]\n",
    "lista_decrescente = [96, 92, 90, 88, 82, 75, 68, 61, 57, 55, 53, 43, 41, 37, 33, 29, 24, 19, 13, 12]\n",
    "lista_nao_ordenada = [88, 24, 75, 13, 92, 57, 43, 68, 19, 37, 82, 29, 53, 12, 41, 90, 61, 55, 33, 96]\n",
    "crescente, vetor = insertion(lista_crescente)\n",
    "decrescente, vetor = insertion(lista_decrescente)\n",
    "nao_ordenada, vetor = insertion(lista_nao_ordenada)\n",
    "\n",
    "print(f'Lista Crescente: {crescente}')\n",
    "print(f'Lista Decrescente: {decrescente}')\n",
    "print(f'Lista Não Ordenada: {nao_ordenada}')"
   ]
  },
  {
   "cell_type": "code",
   "execution_count": 129,
   "metadata": {},
   "outputs": [
    {
     "name": "stdout",
     "output_type": "stream",
     "text": [
      "Lista Crescente: 0\n",
      "Lista Decrescente: 190\n",
      "Lista Não Ordenada: 93\n"
     ]
    }
   ],
   "source": [
    "# Bubble Sort\n",
    "lista_crescente = [12, 13, 19, 24, 29, 33, 37, 41, 43, 53, 55, 57, 61, 68, 75, 82, 88, 90, 92, 96]\n",
    "lista_decrescente = [96, 92, 90, 88, 82, 75, 68, 61, 57, 55, 53, 43, 41, 37, 33, 29, 24, 19, 13, 12]\n",
    "lista_nao_ordenada = [88, 24, 75, 13, 92, 57, 43, 68, 19, 37, 82, 29, 53, 12, 41, 90, 61, 55, 33, 96]\n",
    "crescente, vetor = bubble(lista_crescente)\n",
    "decrescente, vetor = bubble(lista_decrescente)\n",
    "nao_ordenada, vetor = bubble(lista_nao_ordenada)\n",
    "\n",
    "print(f'Lista Crescente: {crescente}')\n",
    "print(f'Lista Decrescente: {decrescente}')\n",
    "print(f'Lista Não Ordenada: {nao_ordenada}')"
   ]
  }
 ],
 "metadata": {
  "kernelspec": {
   "display_name": "Python 3",
   "language": "python",
   "name": "python3"
  },
  "language_info": {
   "codemirror_mode": {
    "name": "ipython",
    "version": 3
   },
   "file_extension": ".py",
   "mimetype": "text/x-python",
   "name": "python",
   "nbconvert_exporter": "python",
   "pygments_lexer": "ipython3",
   "version": "3.11.9"
  }
 },
 "nbformat": 4,
 "nbformat_minor": 2
}
