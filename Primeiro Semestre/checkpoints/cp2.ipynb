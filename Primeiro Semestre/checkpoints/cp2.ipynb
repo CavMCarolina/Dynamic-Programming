{
 "cells": [
  {
   "cell_type": "markdown",
   "metadata": {},
   "source": [
    "# Checkpoint 2:"
   ]
  },
  {
   "cell_type": "markdown",
   "metadata": {},
   "source": [
    "## Exercício 1:\n",
    "Dado uma lista ordenada L e um elemento x, remove x de L mantendo a lista ordenada"
   ]
  },
  {
   "cell_type": "code",
   "execution_count": 2,
   "metadata": {},
   "outputs": [
    {
     "name": "stdout",
     "output_type": "stream",
     "text": [
      "2 será removido da lista\n",
      "Lista final = [3, 4, 6, 10, None]\n"
     ]
    }
   ],
   "source": [
    "def remover():\n",
    "    for i, elemento in enumerate(L):\n",
    "        if elemento == x:\n",
    "            return i\n",
    "    return - 1\n",
    "\n",
    "L = [2, 3, 4, 6, 10]\n",
    "x = 2\n",
    "\n",
    "i = remover()\n",
    "\n",
    "if i != -1:\n",
    "    print(f'{x} será removido da lista')\n",
    "\n",
    "    # Vai deslocando os numeros (3 3 4 6 10, 3 4 4 6 10, 3 4 6 6 10, 3 4 6 10 10)\n",
    "    for j in range (i + 1, len(L)):\n",
    "        L[j -1] = L[j]\n",
    "        \n",
    "    # Adiciona o None para \"diminuir a lista\"\n",
    "    L[len(L) - 1] = None\n",
    "    print(f'Lista final = {L}')\n",
    "else:\n",
    "    print(f'{x} não pertence a lista')"
   ]
  },
  {
   "cell_type": "markdown",
   "metadata": {},
   "source": [
    "## Exercício 2:\n",
    "Considere uma pilha P e que foram executas as operações abaixo (na ordem em que forma escritas)\n",
    "\n",
    "push/empilha 2\n",
    "\n",
    "push/empilha 3\n",
    "\n",
    "push/empilha 5\n",
    "\n",
    "remove/pop um elemento da pilha\n",
    "\n",
    "remove/pop um elemento da pilha\n",
    "\n",
    "push/empilha 1\n",
    "\n",
    "Escreva os elementos que estão na pilha, do base para o topo. Você pode usar um código em Python para verificar a situação da pilha P"
   ]
  },
  {
   "cell_type": "code",
   "execution_count": 17,
   "metadata": {},
   "outputs": [
    {
     "name": "stdout",
     "output_type": "stream",
     "text": [
      "[2, 1]\n"
     ]
    }
   ],
   "source": [
    "P = []\n",
    "\n",
    "P.append(2)\n",
    "P.append(3)\n",
    "P.append(5)\n",
    "# print(P)\n",
    "P.pop()\n",
    "# print(P)\n",
    "P.pop()\n",
    "# print(P)\n",
    "P.append(1)\n",
    "\n",
    "print(P)"
   ]
  },
  {
   "cell_type": "markdown",
   "metadata": {},
   "source": [
    "## Exercício 3:\n",
    "Considere uma fila F e que foram executas as operações abaixo (na ordem em que forma escritas)\n",
    "\n",
    "insere o 2\n",
    "\n",
    "insere o 3\n",
    "\n",
    "remove um elemento da fila\n",
    "\n",
    "insere o 5\n",
    "\n",
    "remove um elemento da fila\n",
    "\n",
    "insere o 1\n",
    "\n",
    "Escreva os elementos que estão na fila, do início para o fim. Você pode usar um código em Python para verificar a situação da pilha F."
   ]
  },
  {
   "cell_type": "code",
   "execution_count": 18,
   "metadata": {},
   "outputs": [
    {
     "name": "stdout",
     "output_type": "stream",
     "text": [
      "deque([5, 1])\n"
     ]
    }
   ],
   "source": [
    "from collections import deque\n",
    "\n",
    "F = deque()\n",
    "\n",
    "F.append(2)\n",
    "F.append(3)\n",
    "# print(F)\n",
    "F.popleft()\n",
    "# print(F)\n",
    "F.append(5)\n",
    "# print(F)\n",
    "F.popleft()\n",
    "# print(F)\n",
    "F.append(1)\n",
    "\n",
    "print(F)"
   ]
  }
 ],
 "metadata": {
  "kernelspec": {
   "display_name": "Python 3",
   "language": "python",
   "name": "python3"
  },
  "language_info": {
   "codemirror_mode": {
    "name": "ipython",
    "version": 3
   },
   "file_extension": ".py",
   "mimetype": "text/x-python",
   "name": "python",
   "nbconvert_exporter": "python",
   "pygments_lexer": "ipython3",
   "version": "3.11.9"
  }
 },
 "nbformat": 4,
 "nbformat_minor": 2
}
