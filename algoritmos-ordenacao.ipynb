{
 "cells": [
  {
   "cell_type": "markdown",
   "metadata": {},
   "source": [
    "# Algoritmos de Ordenação:"
   ]
  },
  {
   "cell_type": "markdown",
   "metadata": {},
   "source": [
    "## Selection Sort:\n",
    "- Feita da esquerda para a direita;\n",
    "- V[i] <= V[j], i < j;\n",
    "- Troca de índices.\n",
    "- Ao rodar, encontra o menor numero."
   ]
  },
  {
   "cell_type": "code",
   "execution_count": 3,
   "metadata": {},
   "outputs": [
    {
     "data": {
      "text/plain": [
       "[1, 2, 3, 4, 7]"
      ]
     },
     "execution_count": 3,
     "metadata": {},
     "output_type": "execute_result"
    }
   ],
   "source": [
    "def selection_sort(vetor):\n",
    "    for i in range(len(vetor)):\n",
    "        id_min = i \n",
    "        for j in range (i + 1, len(vetor)):\n",
    "            if vetor[j] < vetor[id_min]:\n",
    "                id_min = j\n",
    "        vetor[i], vetor[id_min] = vetor[id_min], vetor[i]\n",
    "    return vetor\n",
    "\n",
    "exemplo = [7, 1, 4, 2, 3]\n",
    "selection_sort(exemplo)"
   ]
  },
  {
   "cell_type": "markdown",
   "metadata": {},
   "source": [
    "### Vantagens:\n",
    "- implementação simples;\n",
    "- Não precisa de estrutura de dados auxiliar;\n",
    "- Rápido em vetores pequenos"
   ]
  },
  {
   "cell_type": "markdown",
   "metadata": {},
   "source": [
    "### Desvantagens:\n",
    "- Lento para vetores grandes;\n",
    "- Complexidade de tempo O(n^2)(sempre)."
   ]
  },
  {
   "cell_type": "markdown",
   "metadata": {},
   "source": [
    "## Insertion Sort:\n",
    "- Insere o elemento novo na região ordenada -> inicialmente vazia;\n",
    "- Compara com todos os elementos dentro da parte ordenada até satisfazer a condição V[i] <= V[j], i < j;\n",
    "- Roda em sequência da esquerda para a direita, vai comparando os números."
   ]
  },
  {
   "cell_type": "code",
   "execution_count": 10,
   "metadata": {},
   "outputs": [
    {
     "data": {
      "text/plain": [
       "[0, 1, 3, 7, 8]"
      ]
     },
     "execution_count": 10,
     "metadata": {},
     "output_type": "execute_result"
    }
   ],
   "source": [
    "def insertion_sort(vetor):\n",
    "    for i in range(1, len(vetor)):\n",
    "        chave = vetor[i]\n",
    "        j = i - 1\n",
    "        while j >= 0 and vetor[j] > chave:\n",
    "            vetor[j + 1] = vetor[j]\n",
    "            j -= 1\n",
    "        vetor[j + 1] = chave\n",
    "    return vetor\n",
    "\n",
    "exemplo = [3, 0, 1, 8, 7]\n",
    "insertion_sort(exemplo)\n",
    "\n",
    "# variavel chave guarda o numero anterior para não repetir, conseguir ordenar"
   ]
  },
  {
   "cell_type": "markdown",
   "metadata": {},
   "source": [
    "### Vantagens:"
   ]
  },
  {
   "cell_type": "markdown",
   "metadata": {},
   "source": [
    "### Desvantagens:\n",
    "- Se estiver em ordem descrescente, demora mais ou igual ao selection;\n",
    "- "
   ]
  }
 ],
 "metadata": {
  "kernelspec": {
   "display_name": "Python 3",
   "language": "python",
   "name": "python3"
  },
  "language_info": {
   "codemirror_mode": {
    "name": "ipython",
    "version": 3
   },
   "file_extension": ".py",
   "mimetype": "text/x-python",
   "name": "python",
   "nbconvert_exporter": "python",
   "pygments_lexer": "ipython3",
   "version": "3.12.3"
  }
 },
 "nbformat": 4,
 "nbformat_minor": 2
}
